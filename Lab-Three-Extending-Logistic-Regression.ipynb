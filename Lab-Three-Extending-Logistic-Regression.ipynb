{
 "cells": [
  {
   "cell_type": "markdown",
   "id": "e5660632",
   "metadata": {},
   "source": [
    "# Lab Three: Extending Logistic Regression"
   ]
  },
  {
   "cell_type": "markdown",
   "id": "c017c915",
   "metadata": {},
   "source": [
    "#### by: Mohammed Ahmed Abdelrazek Aboelela & Naim Barnett & Kian Rahimi\n"
   ]
  },
  {
   "cell_type": "markdown",
   "id": "6cd9e5e2",
   "metadata": {},
   "source": [
    "**Data Set :**\n",
    "Credit Card Classification - *https://www.kaggle.com/datasets/parisrohan/credit-score-classification?select=train.csv*"
   ]
  },
  {
   "cell_type": "markdown",
   "id": "8126ccdc",
   "metadata": {},
   "source": [
    "## Preparation and Overview"
   ]
  },
  {
   "cell_type": "markdown",
   "id": "daf33a58",
   "metadata": {},
   "source": [
    "### Overview and Business Understanding\n",
    "\n",
    "It is very important in the work of global financial companies and also banks to know when to have a classifier that helps them to decide whether or not to trust customers when lending them large sum of money, such as a mortgage or a line of credit. To determine said reliability of customers, companies and banks utilizes the credit score, which is dependent on a variety of factors. Within the public domain of Kaggle, there is a large database that holds information on the known factors associated with credit score, and the final given credit score bracket. It contains over 100000 datapoints, and it utilizes both numeric and categorical data. Our goal is to build an intelligent system to segregate the people into credit score brackets to reduce the manual efforts. Thus, the main prediction task here is to classify the credit score of a customer based on their credit-related attributes. This is of direct interest to third parties (such as companies) that want a tool to reduce the efforts to classify their customer's credit scores. Consequently, for the prediction algorithm to be considered useful, it needs to be very efficient when applied to our test data in predicting the credit scores of the test customers. The model (from my own understanding of the difference between online and offline analysis) will be mostly for offline analysis, meaning that the model will be trained and tested using the already provided datapoints, and then the prediction data will be collected and fed to the algorithm that will predict the respective credit score bracket. "
   ]
  },
  {
   "cell_type": "markdown",
   "id": "903bde30",
   "metadata": {},
   "source": [
    "### Cleaning, Preparing and Pre-Processing Dataset"
   ]
  },
  {
   "cell_type": "code",
   "execution_count": 1,
   "id": "4757907c",
   "metadata": {},
   "outputs": [],
   "source": [
    "#importing all the necessary packages\n",
    "import numpy as np \n",
    "import pandas as pd\n",
    "import matplotlib\n",
    "import matplotlib.pyplot as plt\n",
    "import seaborn as sns\n",
    "import warnings\n",
    "warnings.simplefilter('ignore', DeprecationWarning)\n",
    "import re\n",
    "import missingno as mn         #make sure to have the package installed \"pip install missingno\"\n",
    "from sklearn.model_selection import train_test_split"
   ]
  },
  {
   "cell_type": "code",
   "execution_count": 2,
   "id": "b8738a1e",
   "metadata": {},
   "outputs": [
    {
     "data": {
      "text/html": [
       "<div>\n",
       "<style scoped>\n",
       "    .dataframe tbody tr th:only-of-type {\n",
       "        vertical-align: middle;\n",
       "    }\n",
       "\n",
       "    .dataframe tbody tr th {\n",
       "        vertical-align: top;\n",
       "    }\n",
       "\n",
       "    .dataframe thead th {\n",
       "        text-align: right;\n",
       "    }\n",
       "</style>\n",
       "<table border=\"1\" class=\"dataframe\">\n",
       "  <thead>\n",
       "    <tr style=\"text-align: right;\">\n",
       "      <th></th>\n",
       "      <th>ID</th>\n",
       "      <th>Customer_ID</th>\n",
       "      <th>Month</th>\n",
       "      <th>Name</th>\n",
       "      <th>Age</th>\n",
       "      <th>SSN</th>\n",
       "      <th>Occupation</th>\n",
       "      <th>Annual_Income</th>\n",
       "      <th>Monthly_Inhand_Salary</th>\n",
       "      <th>Num_Bank_Accounts</th>\n",
       "      <th>...</th>\n",
       "      <th>Credit_Mix</th>\n",
       "      <th>Outstanding_Debt</th>\n",
       "      <th>Credit_Utilization_Ratio</th>\n",
       "      <th>Credit_History_Age</th>\n",
       "      <th>Payment_of_Min_Amount</th>\n",
       "      <th>Total_EMI_per_month</th>\n",
       "      <th>Amount_invested_monthly</th>\n",
       "      <th>Payment_Behaviour</th>\n",
       "      <th>Monthly_Balance</th>\n",
       "      <th>Credit_Score</th>\n",
       "    </tr>\n",
       "  </thead>\n",
       "  <tbody>\n",
       "    <tr>\n",
       "      <th>0</th>\n",
       "      <td>0x1602</td>\n",
       "      <td>CUS_0xd40</td>\n",
       "      <td>January</td>\n",
       "      <td>Aaron Maashoh</td>\n",
       "      <td>23</td>\n",
       "      <td>821-00-0265</td>\n",
       "      <td>Scientist</td>\n",
       "      <td>19114.12</td>\n",
       "      <td>1824.843333</td>\n",
       "      <td>3</td>\n",
       "      <td>...</td>\n",
       "      <td>_</td>\n",
       "      <td>809.98</td>\n",
       "      <td>26.822620</td>\n",
       "      <td>22 Years and 1 Months</td>\n",
       "      <td>No</td>\n",
       "      <td>49.574949</td>\n",
       "      <td>80.41529543900253</td>\n",
       "      <td>High_spent_Small_value_payments</td>\n",
       "      <td>312.49408867943663</td>\n",
       "      <td>Good</td>\n",
       "    </tr>\n",
       "    <tr>\n",
       "      <th>1</th>\n",
       "      <td>0x1603</td>\n",
       "      <td>CUS_0xd40</td>\n",
       "      <td>February</td>\n",
       "      <td>Aaron Maashoh</td>\n",
       "      <td>23</td>\n",
       "      <td>821-00-0265</td>\n",
       "      <td>Scientist</td>\n",
       "      <td>19114.12</td>\n",
       "      <td>NaN</td>\n",
       "      <td>3</td>\n",
       "      <td>...</td>\n",
       "      <td>Good</td>\n",
       "      <td>809.98</td>\n",
       "      <td>31.944960</td>\n",
       "      <td>NaN</td>\n",
       "      <td>No</td>\n",
       "      <td>49.574949</td>\n",
       "      <td>118.28022162236736</td>\n",
       "      <td>Low_spent_Large_value_payments</td>\n",
       "      <td>284.62916249607184</td>\n",
       "      <td>Good</td>\n",
       "    </tr>\n",
       "    <tr>\n",
       "      <th>2</th>\n",
       "      <td>0x1604</td>\n",
       "      <td>CUS_0xd40</td>\n",
       "      <td>March</td>\n",
       "      <td>Aaron Maashoh</td>\n",
       "      <td>-500</td>\n",
       "      <td>821-00-0265</td>\n",
       "      <td>Scientist</td>\n",
       "      <td>19114.12</td>\n",
       "      <td>NaN</td>\n",
       "      <td>3</td>\n",
       "      <td>...</td>\n",
       "      <td>Good</td>\n",
       "      <td>809.98</td>\n",
       "      <td>28.609352</td>\n",
       "      <td>22 Years and 3 Months</td>\n",
       "      <td>No</td>\n",
       "      <td>49.574949</td>\n",
       "      <td>81.699521264648</td>\n",
       "      <td>Low_spent_Medium_value_payments</td>\n",
       "      <td>331.2098628537912</td>\n",
       "      <td>Good</td>\n",
       "    </tr>\n",
       "    <tr>\n",
       "      <th>3</th>\n",
       "      <td>0x1605</td>\n",
       "      <td>CUS_0xd40</td>\n",
       "      <td>April</td>\n",
       "      <td>Aaron Maashoh</td>\n",
       "      <td>23</td>\n",
       "      <td>821-00-0265</td>\n",
       "      <td>Scientist</td>\n",
       "      <td>19114.12</td>\n",
       "      <td>NaN</td>\n",
       "      <td>3</td>\n",
       "      <td>...</td>\n",
       "      <td>Good</td>\n",
       "      <td>809.98</td>\n",
       "      <td>31.377862</td>\n",
       "      <td>22 Years and 4 Months</td>\n",
       "      <td>No</td>\n",
       "      <td>49.574949</td>\n",
       "      <td>199.4580743910713</td>\n",
       "      <td>Low_spent_Small_value_payments</td>\n",
       "      <td>223.45130972736786</td>\n",
       "      <td>Good</td>\n",
       "    </tr>\n",
       "    <tr>\n",
       "      <th>4</th>\n",
       "      <td>0x1606</td>\n",
       "      <td>CUS_0xd40</td>\n",
       "      <td>May</td>\n",
       "      <td>Aaron Maashoh</td>\n",
       "      <td>23</td>\n",
       "      <td>821-00-0265</td>\n",
       "      <td>Scientist</td>\n",
       "      <td>19114.12</td>\n",
       "      <td>1824.843333</td>\n",
       "      <td>3</td>\n",
       "      <td>...</td>\n",
       "      <td>Good</td>\n",
       "      <td>809.98</td>\n",
       "      <td>24.797347</td>\n",
       "      <td>22 Years and 5 Months</td>\n",
       "      <td>No</td>\n",
       "      <td>49.574949</td>\n",
       "      <td>41.420153086217326</td>\n",
       "      <td>High_spent_Medium_value_payments</td>\n",
       "      <td>341.48923103222177</td>\n",
       "      <td>Good</td>\n",
       "    </tr>\n",
       "    <tr>\n",
       "      <th>...</th>\n",
       "      <td>...</td>\n",
       "      <td>...</td>\n",
       "      <td>...</td>\n",
       "      <td>...</td>\n",
       "      <td>...</td>\n",
       "      <td>...</td>\n",
       "      <td>...</td>\n",
       "      <td>...</td>\n",
       "      <td>...</td>\n",
       "      <td>...</td>\n",
       "      <td>...</td>\n",
       "      <td>...</td>\n",
       "      <td>...</td>\n",
       "      <td>...</td>\n",
       "      <td>...</td>\n",
       "      <td>...</td>\n",
       "      <td>...</td>\n",
       "      <td>...</td>\n",
       "      <td>...</td>\n",
       "      <td>...</td>\n",
       "      <td>...</td>\n",
       "    </tr>\n",
       "    <tr>\n",
       "      <th>99995</th>\n",
       "      <td>0x25fe9</td>\n",
       "      <td>CUS_0x942c</td>\n",
       "      <td>April</td>\n",
       "      <td>Nicks</td>\n",
       "      <td>25</td>\n",
       "      <td>078-73-5990</td>\n",
       "      <td>Mechanic</td>\n",
       "      <td>39628.99</td>\n",
       "      <td>3359.415833</td>\n",
       "      <td>4</td>\n",
       "      <td>...</td>\n",
       "      <td>_</td>\n",
       "      <td>502.38</td>\n",
       "      <td>34.663572</td>\n",
       "      <td>31 Years and 6 Months</td>\n",
       "      <td>No</td>\n",
       "      <td>35.104023</td>\n",
       "      <td>60.97133255718485</td>\n",
       "      <td>High_spent_Large_value_payments</td>\n",
       "      <td>479.86622816574095</td>\n",
       "      <td>Poor</td>\n",
       "    </tr>\n",
       "    <tr>\n",
       "      <th>99996</th>\n",
       "      <td>0x25fea</td>\n",
       "      <td>CUS_0x942c</td>\n",
       "      <td>May</td>\n",
       "      <td>Nicks</td>\n",
       "      <td>25</td>\n",
       "      <td>078-73-5990</td>\n",
       "      <td>Mechanic</td>\n",
       "      <td>39628.99</td>\n",
       "      <td>3359.415833</td>\n",
       "      <td>4</td>\n",
       "      <td>...</td>\n",
       "      <td>_</td>\n",
       "      <td>502.38</td>\n",
       "      <td>40.565631</td>\n",
       "      <td>31 Years and 7 Months</td>\n",
       "      <td>No</td>\n",
       "      <td>35.104023</td>\n",
       "      <td>54.18595028760385</td>\n",
       "      <td>High_spent_Medium_value_payments</td>\n",
       "      <td>496.651610435322</td>\n",
       "      <td>Poor</td>\n",
       "    </tr>\n",
       "    <tr>\n",
       "      <th>99997</th>\n",
       "      <td>0x25feb</td>\n",
       "      <td>CUS_0x942c</td>\n",
       "      <td>June</td>\n",
       "      <td>Nicks</td>\n",
       "      <td>25</td>\n",
       "      <td>078-73-5990</td>\n",
       "      <td>Mechanic</td>\n",
       "      <td>39628.99</td>\n",
       "      <td>3359.415833</td>\n",
       "      <td>4</td>\n",
       "      <td>...</td>\n",
       "      <td>Good</td>\n",
       "      <td>502.38</td>\n",
       "      <td>41.255522</td>\n",
       "      <td>31 Years and 8 Months</td>\n",
       "      <td>No</td>\n",
       "      <td>35.104023</td>\n",
       "      <td>24.02847744864441</td>\n",
       "      <td>High_spent_Large_value_payments</td>\n",
       "      <td>516.8090832742814</td>\n",
       "      <td>Poor</td>\n",
       "    </tr>\n",
       "    <tr>\n",
       "      <th>99998</th>\n",
       "      <td>0x25fec</td>\n",
       "      <td>CUS_0x942c</td>\n",
       "      <td>July</td>\n",
       "      <td>Nicks</td>\n",
       "      <td>25</td>\n",
       "      <td>078-73-5990</td>\n",
       "      <td>Mechanic</td>\n",
       "      <td>39628.99</td>\n",
       "      <td>3359.415833</td>\n",
       "      <td>4</td>\n",
       "      <td>...</td>\n",
       "      <td>Good</td>\n",
       "      <td>502.38</td>\n",
       "      <td>33.638208</td>\n",
       "      <td>31 Years and 9 Months</td>\n",
       "      <td>No</td>\n",
       "      <td>35.104023</td>\n",
       "      <td>251.67258219721603</td>\n",
       "      <td>Low_spent_Large_value_payments</td>\n",
       "      <td>319.1649785257098</td>\n",
       "      <td>Standard</td>\n",
       "    </tr>\n",
       "    <tr>\n",
       "      <th>99999</th>\n",
       "      <td>0x25fed</td>\n",
       "      <td>CUS_0x942c</td>\n",
       "      <td>August</td>\n",
       "      <td>Nicks</td>\n",
       "      <td>25</td>\n",
       "      <td>078-73-5990</td>\n",
       "      <td>Mechanic</td>\n",
       "      <td>39628.99_</td>\n",
       "      <td>3359.415833</td>\n",
       "      <td>4</td>\n",
       "      <td>...</td>\n",
       "      <td>Good</td>\n",
       "      <td>502.38</td>\n",
       "      <td>34.192463</td>\n",
       "      <td>31 Years and 10 Months</td>\n",
       "      <td>No</td>\n",
       "      <td>35.104023</td>\n",
       "      <td>167.1638651610451</td>\n",
       "      <td>!@9#%8</td>\n",
       "      <td>393.6736955618808</td>\n",
       "      <td>Poor</td>\n",
       "    </tr>\n",
       "  </tbody>\n",
       "</table>\n",
       "<p>100000 rows × 28 columns</p>\n",
       "</div>"
      ],
      "text/plain": [
       "            ID Customer_ID     Month           Name   Age          SSN  \\\n",
       "0       0x1602   CUS_0xd40   January  Aaron Maashoh    23  821-00-0265   \n",
       "1       0x1603   CUS_0xd40  February  Aaron Maashoh    23  821-00-0265   \n",
       "2       0x1604   CUS_0xd40     March  Aaron Maashoh  -500  821-00-0265   \n",
       "3       0x1605   CUS_0xd40     April  Aaron Maashoh    23  821-00-0265   \n",
       "4       0x1606   CUS_0xd40       May  Aaron Maashoh    23  821-00-0265   \n",
       "...        ...         ...       ...            ...   ...          ...   \n",
       "99995  0x25fe9  CUS_0x942c     April          Nicks    25  078-73-5990   \n",
       "99996  0x25fea  CUS_0x942c       May          Nicks    25  078-73-5990   \n",
       "99997  0x25feb  CUS_0x942c      June          Nicks    25  078-73-5990   \n",
       "99998  0x25fec  CUS_0x942c      July          Nicks    25  078-73-5990   \n",
       "99999  0x25fed  CUS_0x942c    August          Nicks    25  078-73-5990   \n",
       "\n",
       "      Occupation Annual_Income  Monthly_Inhand_Salary  Num_Bank_Accounts  ...  \\\n",
       "0      Scientist      19114.12            1824.843333                  3  ...   \n",
       "1      Scientist      19114.12                    NaN                  3  ...   \n",
       "2      Scientist      19114.12                    NaN                  3  ...   \n",
       "3      Scientist      19114.12                    NaN                  3  ...   \n",
       "4      Scientist      19114.12            1824.843333                  3  ...   \n",
       "...          ...           ...                    ...                ...  ...   \n",
       "99995   Mechanic      39628.99            3359.415833                  4  ...   \n",
       "99996   Mechanic      39628.99            3359.415833                  4  ...   \n",
       "99997   Mechanic      39628.99            3359.415833                  4  ...   \n",
       "99998   Mechanic      39628.99            3359.415833                  4  ...   \n",
       "99999   Mechanic     39628.99_            3359.415833                  4  ...   \n",
       "\n",
       "       Credit_Mix  Outstanding_Debt Credit_Utilization_Ratio  \\\n",
       "0               _            809.98                26.822620   \n",
       "1            Good            809.98                31.944960   \n",
       "2            Good            809.98                28.609352   \n",
       "3            Good            809.98                31.377862   \n",
       "4            Good            809.98                24.797347   \n",
       "...           ...               ...                      ...   \n",
       "99995           _            502.38                34.663572   \n",
       "99996           _            502.38                40.565631   \n",
       "99997        Good            502.38                41.255522   \n",
       "99998        Good            502.38                33.638208   \n",
       "99999        Good            502.38                34.192463   \n",
       "\n",
       "           Credit_History_Age  Payment_of_Min_Amount Total_EMI_per_month  \\\n",
       "0       22 Years and 1 Months                     No           49.574949   \n",
       "1                         NaN                     No           49.574949   \n",
       "2       22 Years and 3 Months                     No           49.574949   \n",
       "3       22 Years and 4 Months                     No           49.574949   \n",
       "4       22 Years and 5 Months                     No           49.574949   \n",
       "...                       ...                    ...                 ...   \n",
       "99995   31 Years and 6 Months                     No           35.104023   \n",
       "99996   31 Years and 7 Months                     No           35.104023   \n",
       "99997   31 Years and 8 Months                     No           35.104023   \n",
       "99998   31 Years and 9 Months                     No           35.104023   \n",
       "99999  31 Years and 10 Months                     No           35.104023   \n",
       "\n",
       "      Amount_invested_monthly                 Payment_Behaviour  \\\n",
       "0           80.41529543900253   High_spent_Small_value_payments   \n",
       "1          118.28022162236736    Low_spent_Large_value_payments   \n",
       "2             81.699521264648   Low_spent_Medium_value_payments   \n",
       "3           199.4580743910713    Low_spent_Small_value_payments   \n",
       "4          41.420153086217326  High_spent_Medium_value_payments   \n",
       "...                       ...                               ...   \n",
       "99995       60.97133255718485   High_spent_Large_value_payments   \n",
       "99996       54.18595028760385  High_spent_Medium_value_payments   \n",
       "99997       24.02847744864441   High_spent_Large_value_payments   \n",
       "99998      251.67258219721603    Low_spent_Large_value_payments   \n",
       "99999       167.1638651610451                            !@9#%8   \n",
       "\n",
       "          Monthly_Balance Credit_Score  \n",
       "0      312.49408867943663         Good  \n",
       "1      284.62916249607184         Good  \n",
       "2       331.2098628537912         Good  \n",
       "3      223.45130972736786         Good  \n",
       "4      341.48923103222177         Good  \n",
       "...                   ...          ...  \n",
       "99995  479.86622816574095         Poor  \n",
       "99996    496.651610435322         Poor  \n",
       "99997   516.8090832742814         Poor  \n",
       "99998   319.1649785257098     Standard  \n",
       "99999   393.6736955618808         Poor  \n",
       "\n",
       "[100000 rows x 28 columns]"
      ]
     },
     "execution_count": 2,
     "metadata": {},
     "output_type": "execute_result"
    }
   ],
   "source": [
    "#Loading the dataset\n",
    "#data = pd.read_csv('../../Data/Lab_1_Dataset/train.csv', low_memory=False)\n",
    "data = pd.read_csv('train.csv', low_memory=False)\n",
    "\n",
    "data"
   ]
  },
  {
   "cell_type": "markdown",
   "id": "19389449",
   "metadata": {},
   "source": [
    "From the data below, we can see the overall statistics from the raw data. Ideally, once we are done cleaning, such values as the average will become more accurate. "
   ]
  },
  {
   "cell_type": "code",
   "execution_count": 3,
   "id": "943bcd64",
   "metadata": {},
   "outputs": [
    {
     "name": "stdout",
     "output_type": "stream",
     "text": [
      "<class 'pandas.core.frame.DataFrame'>\n",
      "RangeIndex: 100000 entries, 0 to 99999\n",
      "Data columns (total 28 columns):\n",
      " #   Column                    Non-Null Count   Dtype  \n",
      "---  ------                    --------------   -----  \n",
      " 0   ID                        100000 non-null  object \n",
      " 1   Customer_ID               100000 non-null  object \n",
      " 2   Month                     100000 non-null  object \n",
      " 3   Name                      90015 non-null   object \n",
      " 4   Age                       100000 non-null  object \n",
      " 5   SSN                       100000 non-null  object \n",
      " 6   Occupation                100000 non-null  object \n",
      " 7   Annual_Income             100000 non-null  object \n",
      " 8   Monthly_Inhand_Salary     84998 non-null   float64\n",
      " 9   Num_Bank_Accounts         100000 non-null  int64  \n",
      " 10  Num_Credit_Card           100000 non-null  int64  \n",
      " 11  Interest_Rate             100000 non-null  int64  \n",
      " 12  Num_of_Loan               100000 non-null  object \n",
      " 13  Type_of_Loan              88592 non-null   object \n",
      " 14  Delay_from_due_date       100000 non-null  int64  \n",
      " 15  Num_of_Delayed_Payment    92998 non-null   object \n",
      " 16  Changed_Credit_Limit      100000 non-null  object \n",
      " 17  Num_Credit_Inquiries      98035 non-null   float64\n",
      " 18  Credit_Mix                100000 non-null  object \n",
      " 19  Outstanding_Debt          100000 non-null  object \n",
      " 20  Credit_Utilization_Ratio  100000 non-null  float64\n",
      " 21  Credit_History_Age        90970 non-null   object \n",
      " 22  Payment_of_Min_Amount     100000 non-null  object \n",
      " 23  Total_EMI_per_month       100000 non-null  float64\n",
      " 24  Amount_invested_monthly   95521 non-null   object \n",
      " 25  Payment_Behaviour         100000 non-null  object \n",
      " 26  Monthly_Balance           98800 non-null   object \n",
      " 27  Credit_Score              100000 non-null  object \n",
      "dtypes: float64(4), int64(4), object(20)\n",
      "memory usage: 21.4+ MB\n"
     ]
    },
    {
     "data": {
      "text/html": [
       "<div>\n",
       "<style scoped>\n",
       "    .dataframe tbody tr th:only-of-type {\n",
       "        vertical-align: middle;\n",
       "    }\n",
       "\n",
       "    .dataframe tbody tr th {\n",
       "        vertical-align: top;\n",
       "    }\n",
       "\n",
       "    .dataframe thead th {\n",
       "        text-align: right;\n",
       "    }\n",
       "</style>\n",
       "<table border=\"1\" class=\"dataframe\">\n",
       "  <thead>\n",
       "    <tr style=\"text-align: right;\">\n",
       "      <th></th>\n",
       "      <th>count</th>\n",
       "      <th>mean</th>\n",
       "      <th>std</th>\n",
       "      <th>min</th>\n",
       "      <th>25%</th>\n",
       "      <th>50%</th>\n",
       "      <th>75%</th>\n",
       "      <th>max</th>\n",
       "    </tr>\n",
       "  </thead>\n",
       "  <tbody>\n",
       "    <tr>\n",
       "      <th>Monthly_Inhand_Salary</th>\n",
       "      <td>84998.0</td>\n",
       "      <td>4194.170850</td>\n",
       "      <td>3183.686167</td>\n",
       "      <td>303.645417</td>\n",
       "      <td>1625.568229</td>\n",
       "      <td>3093.745000</td>\n",
       "      <td>5957.448333</td>\n",
       "      <td>15204.633333</td>\n",
       "    </tr>\n",
       "    <tr>\n",
       "      <th>Num_Bank_Accounts</th>\n",
       "      <td>100000.0</td>\n",
       "      <td>17.091280</td>\n",
       "      <td>117.404834</td>\n",
       "      <td>-1.000000</td>\n",
       "      <td>3.000000</td>\n",
       "      <td>6.000000</td>\n",
       "      <td>7.000000</td>\n",
       "      <td>1798.000000</td>\n",
       "    </tr>\n",
       "    <tr>\n",
       "      <th>Num_Credit_Card</th>\n",
       "      <td>100000.0</td>\n",
       "      <td>22.474430</td>\n",
       "      <td>129.057410</td>\n",
       "      <td>0.000000</td>\n",
       "      <td>4.000000</td>\n",
       "      <td>5.000000</td>\n",
       "      <td>7.000000</td>\n",
       "      <td>1499.000000</td>\n",
       "    </tr>\n",
       "    <tr>\n",
       "      <th>Interest_Rate</th>\n",
       "      <td>100000.0</td>\n",
       "      <td>72.466040</td>\n",
       "      <td>466.422621</td>\n",
       "      <td>1.000000</td>\n",
       "      <td>8.000000</td>\n",
       "      <td>13.000000</td>\n",
       "      <td>20.000000</td>\n",
       "      <td>5797.000000</td>\n",
       "    </tr>\n",
       "    <tr>\n",
       "      <th>Delay_from_due_date</th>\n",
       "      <td>100000.0</td>\n",
       "      <td>21.068780</td>\n",
       "      <td>14.860104</td>\n",
       "      <td>-5.000000</td>\n",
       "      <td>10.000000</td>\n",
       "      <td>18.000000</td>\n",
       "      <td>28.000000</td>\n",
       "      <td>67.000000</td>\n",
       "    </tr>\n",
       "    <tr>\n",
       "      <th>Num_Credit_Inquiries</th>\n",
       "      <td>98035.0</td>\n",
       "      <td>27.754251</td>\n",
       "      <td>193.177339</td>\n",
       "      <td>0.000000</td>\n",
       "      <td>3.000000</td>\n",
       "      <td>6.000000</td>\n",
       "      <td>9.000000</td>\n",
       "      <td>2597.000000</td>\n",
       "    </tr>\n",
       "    <tr>\n",
       "      <th>Credit_Utilization_Ratio</th>\n",
       "      <td>100000.0</td>\n",
       "      <td>32.285173</td>\n",
       "      <td>5.116875</td>\n",
       "      <td>20.000000</td>\n",
       "      <td>28.052567</td>\n",
       "      <td>32.305784</td>\n",
       "      <td>36.496663</td>\n",
       "      <td>50.000000</td>\n",
       "    </tr>\n",
       "    <tr>\n",
       "      <th>Total_EMI_per_month</th>\n",
       "      <td>100000.0</td>\n",
       "      <td>1403.118217</td>\n",
       "      <td>8306.041270</td>\n",
       "      <td>0.000000</td>\n",
       "      <td>30.306660</td>\n",
       "      <td>69.249473</td>\n",
       "      <td>161.224249</td>\n",
       "      <td>82331.000000</td>\n",
       "    </tr>\n",
       "  </tbody>\n",
       "</table>\n",
       "</div>"
      ],
      "text/plain": [
       "                             count         mean          std         min  \\\n",
       "Monthly_Inhand_Salary      84998.0  4194.170850  3183.686167  303.645417   \n",
       "Num_Bank_Accounts         100000.0    17.091280   117.404834   -1.000000   \n",
       "Num_Credit_Card           100000.0    22.474430   129.057410    0.000000   \n",
       "Interest_Rate             100000.0    72.466040   466.422621    1.000000   \n",
       "Delay_from_due_date       100000.0    21.068780    14.860104   -5.000000   \n",
       "Num_Credit_Inquiries       98035.0    27.754251   193.177339    0.000000   \n",
       "Credit_Utilization_Ratio  100000.0    32.285173     5.116875   20.000000   \n",
       "Total_EMI_per_month       100000.0  1403.118217  8306.041270    0.000000   \n",
       "\n",
       "                                  25%          50%          75%           max  \n",
       "Monthly_Inhand_Salary     1625.568229  3093.745000  5957.448333  15204.633333  \n",
       "Num_Bank_Accounts            3.000000     6.000000     7.000000   1798.000000  \n",
       "Num_Credit_Card              4.000000     5.000000     7.000000   1499.000000  \n",
       "Interest_Rate                8.000000    13.000000    20.000000   5797.000000  \n",
       "Delay_from_due_date         10.000000    18.000000    28.000000     67.000000  \n",
       "Num_Credit_Inquiries         3.000000     6.000000     9.000000   2597.000000  \n",
       "Credit_Utilization_Ratio    28.052567    32.305784    36.496663     50.000000  \n",
       "Total_EMI_per_month         30.306660    69.249473   161.224249  82331.000000  "
      ]
     },
     "execution_count": 3,
     "metadata": {},
     "output_type": "execute_result"
    }
   ],
   "source": [
    "#Showing the initial form of the data and their related features and averages\n",
    "data.info()\n",
    "data.describe().T"
   ]
  },
  {
   "cell_type": "markdown",
   "id": "49bab82a",
   "metadata": {},
   "source": [
    "Below is a table that includes a description of each attribute in our dataset."
   ]
  },
  {
   "cell_type": "markdown",
   "id": "98fb8497",
   "metadata": {},
   "source": [
    "| ID | Customer_ID | Month | Name | Age | SSN | Occupation | Annual_Income | Monthly_Inhand_Salary | Num_Bank_Accounts | Num_Credit_Card | Interest_Rate| Num_of_Loan | Type_of_Loan | Delay_from_due_date | Num_of_Delayed_Payments | Changed_Credit_Limit | Num_Credit_Inquiries | Credit_Mix | Outstanding_Debt | Credit_Utilization_Ratio | Credit_History_Age | Payment_of_Min_Amount | Total_EMI_per_month | Amount_invested_monthy | Payment_Behaviour | Monthly_Balance | Credit_Score |\n",
    "| --- | --- | --- | --- | --- | --- | --- | --- | --- | --- | --- | --- | --- | --- | --- | --- | --- | --- | --- | --- | --- | --- | --- | --- | --- | --- | --- | --- |\n",
    "| a unique identification of an entry | a unique identification of a person | the month of the year | the name of a person | the age of the person | the social security number of the person | the occupation of the person | the annual income of the person | the monthly base salary of a person | the number of bank accounts a person holds | the number of other credit cards held by a person | the interest rate on the credit card | the number of loans taken from the bank | the types of loan taken by a person | the average number of days delayed from the payment date | the average number of payments delayed by a person | the percentage change in credit card limit | the number of credit card inquiries | the classification of the mix of credits (the types of different credit accounts) | the remaining debt to be paid (in USD) | the utilization ratio of credit card (the sum of all your balances, divided by the sum of your cards' credit limits) | the age of credit history of the person | whether only the minimum amount was paid by the person | the monthly EMI \"Equated monthly installment\" payments (in USD) | the monthly amount invested by the customer (in USD) | the payment behavior of the customer (in USD) | the monthly balance amount of the customer (in USD) | the bracket of credit score (Poor, Standard, Good)|"
   ]
  },
  {
   "cell_type": "markdown",
   "id": "4e334cd5",
   "metadata": {},
   "source": [
    "Due to the relatively big number of attributes (27 + Credit Score), we will be more inclined to get rid of some of them if: \n",
    "1) They are not relevant to our analysis.\n",
    "\n",
    "2) They have a big number of missing data (which make it hard to do imputation)."
   ]
  },
  {
   "cell_type": "code",
   "execution_count": 4,
   "id": "4e1470ed",
   "metadata": {
    "scrolled": true
   },
   "outputs": [
    {
     "data": {
      "image/png": "[encoded data removed]",
      "text/plain": [
       "<Figure size 1800x720 with 2 Axes>"
      ]
     },
     "metadata": {
      "needs_background": "light"
     },
     "output_type": "display_data"
    }
   ],
   "source": [
    "#Looking at the overall shape of the data\n",
    "mn.matrix(data)\n",
    "plt.title(\"Visualization of the overall data shape\", fontsize=30)\n",
    "plt.show()"
   ]
  },
  {
   "cell_type": "markdown",
   "id": "11dc7757",
   "metadata": {},
   "source": [
    "To ensure our data maintains high quality, so our results can be as accurate as possible, we need to clean our data. </br>\n",
    "\n",
    "After an attempt to impute the null or unusable values, we found that it ended up skewing the values. Additionally the sheer amount of values caused overfitting in some of our calculations. Resultantly, we chose to simply remove the unusable data .</br>\n",
    "\n",
    "First, we are going to remove columns that are not useful to our analysis. We can see that information such as Customer_ID, Month, Name, and SSN are general information that is extremely unlikely to have any affect on the trends we are analyzing. As a result, we can remove the columns to narrow our dataset. "
   ]
  },
  {
   "cell_type": "code",
   "execution_count": 5,
   "id": "d70f668c",
   "metadata": {},
   "outputs": [
    {
     "data": {
      "text/plain": [
       "Index(['ID', 'Customer_ID', 'Month', 'Name', 'Age', 'SSN', 'Occupation',\n",
       "       'Annual_Income', 'Monthly_Inhand_Salary', 'Num_Bank_Accounts',\n",
       "       'Num_Credit_Card', 'Interest_Rate', 'Num_of_Loan', 'Type_of_Loan',\n",
       "       'Delay_from_due_date', 'Num_of_Delayed_Payment', 'Changed_Credit_Limit',\n",
       "       'Num_Credit_Inquiries', 'Credit_Mix', 'Outstanding_Debt',\n",
       "       'Credit_Utilization_Ratio', 'Credit_History_Age',\n",
       "       'Payment_of_Min_Amount', 'Total_EMI_per_month',\n",
       "       'Amount_invested_monthly', 'Payment_Behaviour', 'Monthly_Balance',\n",
       "       'Credit_Score'],\n",
       "      dtype='object')"
      ]
     },
     "execution_count": 5,
     "metadata": {},
     "output_type": "execute_result"
    }
   ],
   "source": [
    "#Print column names\n",
    "data.columns"
   ]
  },
  {
   "cell_type": "code",
   "execution_count": 6,
   "id": "2b40649e",
   "metadata": {
    "scrolled": true
   },
   "outputs": [
    {
     "name": "stdout",
     "output_type": "stream",
     "text": [
      "<class 'pandas.core.frame.DataFrame'>\n",
      "RangeIndex: 100000 entries, 0 to 99999\n",
      "Data columns (total 21 columns):\n",
      " #   Column                    Non-Null Count   Dtype  \n",
      "---  ------                    --------------   -----  \n",
      " 0   Age                       100000 non-null  object \n",
      " 1   Annual_Income             100000 non-null  object \n",
      " 2   Monthly_Inhand_Salary     84998 non-null   float64\n",
      " 3   Num_Bank_Accounts         100000 non-null  int64  \n",
      " 4   Num_Credit_Card           100000 non-null  int64  \n",
      " 5   Interest_Rate             100000 non-null  int64  \n",
      " 6   Num_of_Loan               100000 non-null  object \n",
      " 7   Delay_from_due_date       100000 non-null  int64  \n",
      " 8   Num_of_Delayed_Payment    92998 non-null   object \n",
      " 9   Changed_Credit_Limit      100000 non-null  object \n",
      " 10  Num_Credit_Inquiries      98035 non-null   float64\n",
      " 11  Credit_Mix                100000 non-null  object \n",
      " 12  Outstanding_Debt          100000 non-null  object \n",
      " 13  Credit_Utilization_Ratio  100000 non-null  float64\n",
      " 14  Credit_History_Age        90970 non-null   object \n",
      " 15  Payment_of_Min_Amount     100000 non-null  object \n",
      " 16  Total_EMI_per_month       100000 non-null  float64\n",
      " 17  Amount_invested_monthly   95521 non-null   object \n",
      " 18  Payment_Behaviour         100000 non-null  object \n",
      " 19  Monthly_Balance           98800 non-null   object \n",
      " 20  Credit_Score              100000 non-null  object \n",
      "dtypes: float64(4), int64(4), object(13)\n",
      "memory usage: 16.0+ MB\n"
     ]
    }
   ],
   "source": [
    "#Remove Customer_ID, Month, Name, SSN, Occupation, Type_of_Loan\n",
    "data.drop(['ID','Customer_ID', 'Month', 'Name', 'SSN', 'Occupation', 'Type_of_Loan'], axis=1, inplace=True)\n",
    "data.info()"
   ]
  },
  {
   "cell_type": "markdown",
   "id": "13fd0551-16da-4949-ba5e-48a30c28c983",
   "metadata": {},
   "source": [
    "Secondly, we are going to fill null values in the columns missing data. We also want to remove any illegal values"
   ]
  },
  {
   "cell_type": "code",
   "execution_count": 7,
   "id": "75dcbe6b",
   "metadata": {},
   "outputs": [],
   "source": [
    "#Replace Invalid Values\n",
    "data =data.replace(r'[^\\w\\s.]|_|-', '', regex=True) \n",
    "#Replace all blank strings will null to be dropped\n",
    "data.replace('', np.nan, inplace=True)\n",
    "#Remove all rows with null values\n",
    "data.dropna(inplace=True);"
   ]
  },
  {
   "cell_type": "code",
   "execution_count": 8,
   "id": "5e13e0a1",
   "metadata": {},
   "outputs": [
    {
     "name": "stdout",
     "output_type": "stream",
     "text": [
      "<class 'pandas.core.frame.DataFrame'>\n",
      "Int64Index: 51930 entries, 6 to 99999\n",
      "Data columns (total 21 columns):\n",
      " #   Column                    Non-Null Count  Dtype  \n",
      "---  ------                    --------------  -----  \n",
      " 0   Age                       51930 non-null  object \n",
      " 1   Annual_Income             51930 non-null  object \n",
      " 2   Monthly_Inhand_Salary     51930 non-null  float64\n",
      " 3   Num_Bank_Accounts         51930 non-null  int64  \n",
      " 4   Num_Credit_Card           51930 non-null  int64  \n",
      " 5   Interest_Rate             51930 non-null  int64  \n",
      " 6   Num_of_Loan               51930 non-null  object \n",
      " 7   Delay_from_due_date       51930 non-null  int64  \n",
      " 8   Num_of_Delayed_Payment    51930 non-null  object \n",
      " 9   Changed_Credit_Limit      51930 non-null  object \n",
      " 10  Num_Credit_Inquiries      51930 non-null  float64\n",
      " 11  Credit_Mix                51930 non-null  object \n",
      " 12  Outstanding_Debt          51930 non-null  object \n",
      " 13  Credit_Utilization_Ratio  51930 non-null  float64\n",
      " 14  Credit_History_Age        51930 non-null  object \n",
      " 15  Payment_of_Min_Amount     51930 non-null  object \n",
      " 16  Total_EMI_per_month       51930 non-null  float64\n",
      " 17  Amount_invested_monthly   51930 non-null  object \n",
      " 18  Payment_Behaviour         51930 non-null  object \n",
      " 19  Monthly_Balance           51930 non-null  object \n",
      " 20  Credit_Score              51930 non-null  object \n",
      "dtypes: float64(4), int64(4), object(13)\n",
      "memory usage: 8.7+ MB\n"
     ]
    }
   ],
   "source": [
    "data.info()"
   ]
  },
  {
   "cell_type": "markdown",
   "id": "9dd3aa5f-0730-4a3a-8482-221657a39be0",
   "metadata": {},
   "source": [
    "Thirdly, we want to clear out all duplicate data so our frequency analysis remains accurate. "
   ]
  },
  {
   "cell_type": "code",
   "execution_count": 9,
   "id": "e42769ee",
   "metadata": {},
   "outputs": [],
   "source": [
    "#Find duplicate instances\n",
    "duplicates = data[data.duplicated()]\n",
    "\n",
    "#Remove all duplicates\n",
    "data = data.drop_duplicates()"
   ]
  },
  {
   "cell_type": "code",
   "execution_count": 10,
   "id": "c827126a",
   "metadata": {},
   "outputs": [
    {
     "name": "stdout",
     "output_type": "stream",
     "text": [
      "<class 'pandas.core.frame.DataFrame'>\n",
      "Int64Index: 51930 entries, 6 to 99999\n",
      "Data columns (total 21 columns):\n",
      " #   Column                    Non-Null Count  Dtype  \n",
      "---  ------                    --------------  -----  \n",
      " 0   Age                       51930 non-null  object \n",
      " 1   Annual_Income             51930 non-null  object \n",
      " 2   Monthly_Inhand_Salary     51930 non-null  float64\n",
      " 3   Num_Bank_Accounts         51930 non-null  int64  \n",
      " 4   Num_Credit_Card           51930 non-null  int64  \n",
      " 5   Interest_Rate             51930 non-null  int64  \n",
      " 6   Num_of_Loan               51930 non-null  object \n",
      " 7   Delay_from_due_date       51930 non-null  int64  \n",
      " 8   Num_of_Delayed_Payment    51930 non-null  object \n",
      " 9   Changed_Credit_Limit      51930 non-null  object \n",
      " 10  Num_Credit_Inquiries      51930 non-null  float64\n",
      " 11  Credit_Mix                51930 non-null  object \n",
      " 12  Outstanding_Debt          51930 non-null  object \n",
      " 13  Credit_Utilization_Ratio  51930 non-null  float64\n",
      " 14  Credit_History_Age        51930 non-null  object \n",
      " 15  Payment_of_Min_Amount     51930 non-null  object \n",
      " 16  Total_EMI_per_month       51930 non-null  float64\n",
      " 17  Amount_invested_monthly   51930 non-null  object \n",
      " 18  Payment_Behaviour         51930 non-null  object \n",
      " 19  Monthly_Balance           51930 non-null  object \n",
      " 20  Credit_Score              51930 non-null  object \n",
      "dtypes: float64(4), int64(4), object(13)\n",
      "memory usage: 8.7+ MB\n"
     ]
    }
   ],
   "source": [
    "data.info()"
   ]
  },
  {
   "cell_type": "markdown",
   "id": "93633b4e",
   "metadata": {},
   "source": [
    "Fourthly, we would like to remove outliers from out dataset, so that our data analysis isn't skewed."
   ]
  },
  {
   "cell_type": "code",
   "execution_count": 11,
   "id": "d0d3e780",
   "metadata": {
    "scrolled": false
   },
   "outputs": [
    {
     "name": "stderr",
     "output_type": "stream",
     "text": [
      "/var/folders/l3/2httnx650539mb_cn3qm_z80cc_3b_/T/ipykernel_66041/2559638959.py:6: FutureWarning: Automatic reindexing on DataFrame vs Series comparisons is deprecated and will raise ValueError in a future version. Do `left, right = left.align(right, axis=1, copy=False)` before e.g. `left == right`\n",
      "  data = data[~((data < (Q1 - 1.5*IQR)) | (data > (Q3 + 1.5*IQR))).any(axis = 1)]\n"
     ]
    }
   ],
   "source": [
    "#Determine outliers\n",
    "Q1 = data.quantile(0.25)\n",
    "Q3 = data.quantile(0.75)\n",
    "IQR = Q3 - Q1\n",
    "#Remove outliers\n",
    "data = data[~((data < (Q1 - 1.5*IQR)) | (data > (Q3 + 1.5*IQR))).any(axis = 1)]\n",
    "data = data[(data['Num_Bank_Accounts'] >= 0)]"
   ]
  },
  {
   "cell_type": "code",
   "execution_count": 12,
   "id": "191a9f66",
   "metadata": {},
   "outputs": [
    {
     "name": "stdout",
     "output_type": "stream",
     "text": [
      "<class 'pandas.core.frame.DataFrame'>\n",
      "Int64Index: 42301 entries, 6 to 99999\n",
      "Data columns (total 21 columns):\n",
      " #   Column                    Non-Null Count  Dtype  \n",
      "---  ------                    --------------  -----  \n",
      " 0   Age                       42301 non-null  object \n",
      " 1   Annual_Income             42301 non-null  object \n",
      " 2   Monthly_Inhand_Salary     42301 non-null  float64\n",
      " 3   Num_Bank_Accounts         42301 non-null  int64  \n",
      " 4   Num_Credit_Card           42301 non-null  int64  \n",
      " 5   Interest_Rate             42301 non-null  int64  \n",
      " 6   Num_of_Loan               42301 non-null  object \n",
      " 7   Delay_from_due_date       42301 non-null  int64  \n",
      " 8   Num_of_Delayed_Payment    42301 non-null  object \n",
      " 9   Changed_Credit_Limit      42301 non-null  object \n",
      " 10  Num_Credit_Inquiries      42301 non-null  float64\n",
      " 11  Credit_Mix                42301 non-null  object \n",
      " 12  Outstanding_Debt          42301 non-null  object \n",
      " 13  Credit_Utilization_Ratio  42301 non-null  float64\n",
      " 14  Credit_History_Age        42301 non-null  object \n",
      " 15  Payment_of_Min_Amount     42301 non-null  object \n",
      " 16  Total_EMI_per_month       42301 non-null  float64\n",
      " 17  Amount_invested_monthly   42301 non-null  object \n",
      " 18  Payment_Behaviour         42301 non-null  object \n",
      " 19  Monthly_Balance           42301 non-null  object \n",
      " 20  Credit_Score              42301 non-null  object \n",
      "dtypes: float64(4), int64(4), object(13)\n",
      "memory usage: 7.1+ MB\n"
     ]
    }
   ],
   "source": [
    "data.info()"
   ]
  },
  {
   "cell_type": "markdown",
   "id": "2c197074",
   "metadata": {},
   "source": [
    "Fifthly, and most importantly, we check every non-numeric column, assess it, clean it and convert it to numeric to be relevant for our logistic regression application on it"
   ]
  },
  {
   "cell_type": "code",
   "execution_count": 13,
   "id": "15eed591",
   "metadata": {},
   "outputs": [
    {
     "name": "stdout",
     "output_type": "stream",
     "text": [
      "26      1271\n",
      "44      1271\n",
      "38      1265\n",
      "28      1264\n",
      "36      1253\n",
      "        ... \n",
      "6722       1\n",
      "4732       1\n",
      "1754       1\n",
      "2212       1\n",
      "2263       1\n",
      "Name: Age, Length: 809, dtype: int64\n"
     ]
    }
   ],
   "source": [
    "#After checking the unique values for the Age variable, we do the selection of the instances with reasonable ages.\n",
    "print(data['Age'].value_counts(dropna=False))\n",
    "data[['Age']] = data[['Age']].apply(pd.to_numeric)\n",
    "data = data.loc[(data[\"Age\"] > 0) & (data[\"Age\"] <= 112)] #112 is the recorded oldest age ever!"
   ]
  },
  {
   "cell_type": "code",
   "execution_count": 14,
   "id": "31dc616d",
   "metadata": {},
   "outputs": [
    {
     "name": "stdout",
     "output_type": "stream",
     "text": [
      "<class 'pandas.core.frame.DataFrame'>\n",
      "Int64Index: 41105 entries, 6 to 99999\n",
      "Data columns (total 21 columns):\n",
      " #   Column                    Non-Null Count  Dtype  \n",
      "---  ------                    --------------  -----  \n",
      " 0   Age                       41105 non-null  int64  \n",
      " 1   Annual_Income             41105 non-null  object \n",
      " 2   Monthly_Inhand_Salary     41105 non-null  float64\n",
      " 3   Num_Bank_Accounts         41105 non-null  int64  \n",
      " 4   Num_Credit_Card           41105 non-null  int64  \n",
      " 5   Interest_Rate             41105 non-null  int64  \n",
      " 6   Num_of_Loan               41105 non-null  object \n",
      " 7   Delay_from_due_date       41105 non-null  int64  \n",
      " 8   Num_of_Delayed_Payment    41105 non-null  object \n",
      " 9   Changed_Credit_Limit      41105 non-null  object \n",
      " 10  Num_Credit_Inquiries      41105 non-null  float64\n",
      " 11  Credit_Mix                41105 non-null  object \n",
      " 12  Outstanding_Debt          41105 non-null  object \n",
      " 13  Credit_Utilization_Ratio  41105 non-null  float64\n",
      " 14  Credit_History_Age        41105 non-null  object \n",
      " 15  Payment_of_Min_Amount     41105 non-null  object \n",
      " 16  Total_EMI_per_month       41105 non-null  float64\n",
      " 17  Amount_invested_monthly   41105 non-null  object \n",
      " 18  Payment_Behaviour         41105 non-null  object \n",
      " 19  Monthly_Balance           41105 non-null  object \n",
      " 20  Credit_Score              41105 non-null  object \n",
      "dtypes: float64(4), int64(5), object(12)\n",
      "memory usage: 6.9+ MB\n"
     ]
    }
   ],
   "source": [
    "data.info()"
   ]
  },
  {
   "cell_type": "code",
   "execution_count": 15,
   "id": "c32ea826",
   "metadata": {},
   "outputs": [
    {
     "name": "stdout",
     "output_type": "stream",
     "text": [
      "40341.16     9\n",
      "22434.16     9\n",
      "17816.75     9\n",
      "14822.81     8\n",
      "21471.58     8\n",
      "            ..\n",
      "102432.51    1\n",
      "9416591.0    1\n",
      "57813.39     1\n",
      "21467.56     1\n",
      "39628.99     1\n",
      "Name: Annual_Income, Length: 11805, dtype: int64\n"
     ]
    }
   ],
   "source": [
    "#Converting the annual income values to numeric values.\n",
    "print(data['Annual_Income'].value_counts(dropna=False))\n",
    "data[['Annual_Income']] = data[['Annual_Income']].apply(pd.to_numeric)"
   ]
  },
  {
   "cell_type": "code",
   "execution_count": 16,
   "id": "fac02fcf",
   "metadata": {},
   "outputs": [
    {
     "name": "stdout",
     "output_type": "stream",
     "text": [
      "<class 'pandas.core.frame.DataFrame'>\n",
      "Int64Index: 41105 entries, 6 to 99999\n",
      "Data columns (total 21 columns):\n",
      " #   Column                    Non-Null Count  Dtype  \n",
      "---  ------                    --------------  -----  \n",
      " 0   Age                       41105 non-null  int64  \n",
      " 1   Annual_Income             41105 non-null  float64\n",
      " 2   Monthly_Inhand_Salary     41105 non-null  float64\n",
      " 3   Num_Bank_Accounts         41105 non-null  int64  \n",
      " 4   Num_Credit_Card           41105 non-null  int64  \n",
      " 5   Interest_Rate             41105 non-null  int64  \n",
      " 6   Num_of_Loan               41105 non-null  object \n",
      " 7   Delay_from_due_date       41105 non-null  int64  \n",
      " 8   Num_of_Delayed_Payment    41105 non-null  object \n",
      " 9   Changed_Credit_Limit      41105 non-null  object \n",
      " 10  Num_Credit_Inquiries      41105 non-null  float64\n",
      " 11  Credit_Mix                41105 non-null  object \n",
      " 12  Outstanding_Debt          41105 non-null  object \n",
      " 13  Credit_Utilization_Ratio  41105 non-null  float64\n",
      " 14  Credit_History_Age        41105 non-null  object \n",
      " 15  Payment_of_Min_Amount     41105 non-null  object \n",
      " 16  Total_EMI_per_month       41105 non-null  float64\n",
      " 17  Amount_invested_monthly   41105 non-null  object \n",
      " 18  Payment_Behaviour         41105 non-null  object \n",
      " 19  Monthly_Balance           41105 non-null  object \n",
      " 20  Credit_Score              41105 non-null  object \n",
      "dtypes: float64(5), int64(5), object(11)\n",
      "memory usage: 6.9+ MB\n"
     ]
    }
   ],
   "source": [
    "data.info()"
   ]
  },
  {
   "cell_type": "code",
   "execution_count": 17,
   "id": "dffafeda",
   "metadata": {
    "scrolled": true
   },
   "outputs": [
    {
     "name": "stdout",
     "output_type": "stream",
     "text": [
      "3       6463\n",
      "2       6434\n",
      "4       6108\n",
      "0       4599\n",
      "1       4573\n",
      "        ... \n",
      "1313       1\n",
      "231        1\n",
      "752        1\n",
      "834        1\n",
      "966        1\n",
      "Name: Num_of_Loan, Length: 200, dtype: int64\n"
     ]
    }
   ],
   "source": [
    "#After checking the unique values for the number of loans variable, \n",
    "#we do the selection of the instances with reasonable number of loans.\n",
    "\n",
    "print(data['Num_of_Loan'].value_counts(dropna=False))\n",
    "data[['Num_of_Loan']] = data[['Num_of_Loan']].apply(pd.to_numeric)\n",
    "data = data.loc[(data[\"Num_of_Loan\"] > 0) & (data[\"Num_of_Loan\"] <= 10)] #Limiting ourselves to only people with 10 loans or less, we lose only about 250 data points"
   ]
  },
  {
   "cell_type": "code",
   "execution_count": 18,
   "id": "862ce385",
   "metadata": {},
   "outputs": [
    {
     "name": "stdout",
     "output_type": "stream",
     "text": [
      "<class 'pandas.core.frame.DataFrame'>\n",
      "Int64Index: 34652 entries, 6 to 99999\n",
      "Data columns (total 21 columns):\n",
      " #   Column                    Non-Null Count  Dtype  \n",
      "---  ------                    --------------  -----  \n",
      " 0   Age                       34652 non-null  int64  \n",
      " 1   Annual_Income             34652 non-null  float64\n",
      " 2   Monthly_Inhand_Salary     34652 non-null  float64\n",
      " 3   Num_Bank_Accounts         34652 non-null  int64  \n",
      " 4   Num_Credit_Card           34652 non-null  int64  \n",
      " 5   Interest_Rate             34652 non-null  int64  \n",
      " 6   Num_of_Loan               34652 non-null  int64  \n",
      " 7   Delay_from_due_date       34652 non-null  int64  \n",
      " 8   Num_of_Delayed_Payment    34652 non-null  object \n",
      " 9   Changed_Credit_Limit      34652 non-null  object \n",
      " 10  Num_Credit_Inquiries      34652 non-null  float64\n",
      " 11  Credit_Mix                34652 non-null  object \n",
      " 12  Outstanding_Debt          34652 non-null  object \n",
      " 13  Credit_Utilization_Ratio  34652 non-null  float64\n",
      " 14  Credit_History_Age        34652 non-null  object \n",
      " 15  Payment_of_Min_Amount     34652 non-null  object \n",
      " 16  Total_EMI_per_month       34652 non-null  float64\n",
      " 17  Amount_invested_monthly   34652 non-null  object \n",
      " 18  Payment_Behaviour         34652 non-null  object \n",
      " 19  Monthly_Balance           34652 non-null  object \n",
      " 20  Credit_Score              34652 non-null  object \n",
      "dtypes: float64(5), int64(6), object(10)\n",
      "memory usage: 5.8+ MB\n"
     ]
    }
   ],
   "source": [
    "data.info()"
   ]
  },
  {
   "cell_type": "code",
   "execution_count": 19,
   "id": "22fc6aae",
   "metadata": {},
   "outputs": [
    {
     "name": "stdout",
     "output_type": "stream",
     "text": [
      "17      2156\n",
      "19      2095\n",
      "16      2034\n",
      "15      2031\n",
      "20      2016\n",
      "        ... \n",
      "1531       1\n",
      "1673       1\n",
      "1685       1\n",
      "3489       1\n",
      "2047       1\n",
      "Name: Num_of_Delayed_Payment, Length: 300, dtype: int64\n"
     ]
    }
   ],
   "source": [
    "#After checking the unique values for the number of delayed payments variable, \n",
    "#we do the selection of the instances with reasonable number of delayed payments.\n",
    "\n",
    "print(data['Num_of_Delayed_Payment'].value_counts(dropna=False))\n",
    "data[['Num_of_Delayed_Payment']] = data[['Num_of_Delayed_Payment']].apply(pd.to_numeric)\n",
    "data = data.loc[(data[\"Num_of_Delayed_Payment\"] > 0) & (data[\"Num_of_Delayed_Payment\"] <= 50)] #Limiting ourselves to only people with 50 delayed or less"
   ]
  },
  {
   "cell_type": "code",
   "execution_count": 20,
   "id": "8f342eb3",
   "metadata": {},
   "outputs": [
    {
     "name": "stdout",
     "output_type": "stream",
     "text": [
      "<class 'pandas.core.frame.DataFrame'>\n",
      "Int64Index: 33841 entries, 6 to 99999\n",
      "Data columns (total 21 columns):\n",
      " #   Column                    Non-Null Count  Dtype  \n",
      "---  ------                    --------------  -----  \n",
      " 0   Age                       33841 non-null  int64  \n",
      " 1   Annual_Income             33841 non-null  float64\n",
      " 2   Monthly_Inhand_Salary     33841 non-null  float64\n",
      " 3   Num_Bank_Accounts         33841 non-null  int64  \n",
      " 4   Num_Credit_Card           33841 non-null  int64  \n",
      " 5   Interest_Rate             33841 non-null  int64  \n",
      " 6   Num_of_Loan               33841 non-null  int64  \n",
      " 7   Delay_from_due_date       33841 non-null  int64  \n",
      " 8   Num_of_Delayed_Payment    33841 non-null  int64  \n",
      " 9   Changed_Credit_Limit      33841 non-null  object \n",
      " 10  Num_Credit_Inquiries      33841 non-null  float64\n",
      " 11  Credit_Mix                33841 non-null  object \n",
      " 12  Outstanding_Debt          33841 non-null  object \n",
      " 13  Credit_Utilization_Ratio  33841 non-null  float64\n",
      " 14  Credit_History_Age        33841 non-null  object \n",
      " 15  Payment_of_Min_Amount     33841 non-null  object \n",
      " 16  Total_EMI_per_month       33841 non-null  float64\n",
      " 17  Amount_invested_monthly   33841 non-null  object \n",
      " 18  Payment_Behaviour         33841 non-null  object \n",
      " 19  Monthly_Balance           33841 non-null  object \n",
      " 20  Credit_Score              33841 non-null  object \n",
      "dtypes: float64(5), int64(7), object(9)\n",
      "memory usage: 5.7+ MB\n"
     ]
    }
   ],
   "source": [
    "data.info()"
   ]
  },
  {
   "cell_type": "code",
   "execution_count": 21,
   "id": "bc3a12f7",
   "metadata": {},
   "outputs": [
    {
     "name": "stdout",
     "output_type": "stream",
     "text": [
      "11.5                  50\n",
      "8.22                  47\n",
      "11.32                 46\n",
      "9.25                  44\n",
      "7.64                  44\n",
      "                      ..\n",
      "3.0700000000000003     1\n",
      "23.61                  1\n",
      "23.2                   1\n",
      "21.48                  1\n",
      "22.08                  1\n",
      "Name: Changed_Credit_Limit, Length: 3308, dtype: int64\n"
     ]
    }
   ],
   "source": [
    "#Since it's a percentage, we do the selection of the instances with numbers between 0 and 100%.\n",
    "print(data['Changed_Credit_Limit'].value_counts(dropna=False))\n",
    "data[['Changed_Credit_Limit']] = data[['Changed_Credit_Limit']].apply(pd.to_numeric)\n",
    "data = data.loc[(data[\"Changed_Credit_Limit\"] > 0) & (data[\"Changed_Credit_Limit\"] <= 100)] "
   ]
  },
  {
   "cell_type": "code",
   "execution_count": 22,
   "id": "91dd2c8c",
   "metadata": {},
   "outputs": [
    {
     "name": "stdout",
     "output_type": "stream",
     "text": [
      "<class 'pandas.core.frame.DataFrame'>\n",
      "Int64Index: 33839 entries, 6 to 99999\n",
      "Data columns (total 21 columns):\n",
      " #   Column                    Non-Null Count  Dtype  \n",
      "---  ------                    --------------  -----  \n",
      " 0   Age                       33839 non-null  int64  \n",
      " 1   Annual_Income             33839 non-null  float64\n",
      " 2   Monthly_Inhand_Salary     33839 non-null  float64\n",
      " 3   Num_Bank_Accounts         33839 non-null  int64  \n",
      " 4   Num_Credit_Card           33839 non-null  int64  \n",
      " 5   Interest_Rate             33839 non-null  int64  \n",
      " 6   Num_of_Loan               33839 non-null  int64  \n",
      " 7   Delay_from_due_date       33839 non-null  int64  \n",
      " 8   Num_of_Delayed_Payment    33839 non-null  int64  \n",
      " 9   Changed_Credit_Limit      33839 non-null  float64\n",
      " 10  Num_Credit_Inquiries      33839 non-null  float64\n",
      " 11  Credit_Mix                33839 non-null  object \n",
      " 12  Outstanding_Debt          33839 non-null  object \n",
      " 13  Credit_Utilization_Ratio  33839 non-null  float64\n",
      " 14  Credit_History_Age        33839 non-null  object \n",
      " 15  Payment_of_Min_Amount     33839 non-null  object \n",
      " 16  Total_EMI_per_month       33839 non-null  float64\n",
      " 17  Amount_invested_monthly   33839 non-null  object \n",
      " 18  Payment_Behaviour         33839 non-null  object \n",
      " 19  Monthly_Balance           33839 non-null  object \n",
      " 20  Credit_Score              33839 non-null  object \n",
      "dtypes: float64(6), int64(7), object(8)\n",
      "memory usage: 5.7+ MB\n"
     ]
    }
   ],
   "source": [
    "data.info()"
   ]
  },
  {
   "cell_type": "code",
   "execution_count": 23,
   "id": "5724c523",
   "metadata": {},
   "outputs": [
    {
     "name": "stdout",
     "output_type": "stream",
     "text": [
      "Standard    16790\n",
      "Good         8783\n",
      "Bad          8266\n",
      "Name: Credit_Mix, dtype: int64\n"
     ]
    }
   ],
   "source": [
    "#Converting the unique credit mix values from Bad, Standard, and Good to 1, 2, and 3\n",
    "\n",
    "print(data['Credit_Mix'].value_counts(dropna=False))\n",
    "data = data.replace(['Bad', 'Standard', 'Good'], [1, 2, 3])\n",
    "data['Credit_Mix'] = data[['Credit_Mix']].apply(pd.to_numeric)"
   ]
  },
  {
   "cell_type": "code",
   "execution_count": 24,
   "id": "51e6ac01",
   "metadata": {},
   "outputs": [
    {
     "name": "stdout",
     "output_type": "stream",
     "text": [
      "<class 'pandas.core.frame.DataFrame'>\n",
      "Int64Index: 33839 entries, 6 to 99999\n",
      "Data columns (total 21 columns):\n",
      " #   Column                    Non-Null Count  Dtype  \n",
      "---  ------                    --------------  -----  \n",
      " 0   Age                       33839 non-null  int64  \n",
      " 1   Annual_Income             33839 non-null  float64\n",
      " 2   Monthly_Inhand_Salary     33839 non-null  float64\n",
      " 3   Num_Bank_Accounts         33839 non-null  int64  \n",
      " 4   Num_Credit_Card           33839 non-null  int64  \n",
      " 5   Interest_Rate             33839 non-null  int64  \n",
      " 6   Num_of_Loan               33839 non-null  int64  \n",
      " 7   Delay_from_due_date       33839 non-null  int64  \n",
      " 8   Num_of_Delayed_Payment    33839 non-null  int64  \n",
      " 9   Changed_Credit_Limit      33839 non-null  float64\n",
      " 10  Num_Credit_Inquiries      33839 non-null  float64\n",
      " 11  Credit_Mix                33839 non-null  int64  \n",
      " 12  Outstanding_Debt          33839 non-null  object \n",
      " 13  Credit_Utilization_Ratio  33839 non-null  float64\n",
      " 14  Credit_History_Age        33839 non-null  object \n",
      " 15  Payment_of_Min_Amount     33839 non-null  object \n",
      " 16  Total_EMI_per_month       33839 non-null  float64\n",
      " 17  Amount_invested_monthly   33839 non-null  object \n",
      " 18  Payment_Behaviour         33839 non-null  object \n",
      " 19  Monthly_Balance           33839 non-null  object \n",
      " 20  Credit_Score              33839 non-null  object \n",
      "dtypes: float64(6), int64(8), object(7)\n",
      "memory usage: 5.7+ MB\n"
     ]
    }
   ],
   "source": [
    "data.info()"
   ]
  },
  {
   "cell_type": "code",
   "execution_count": 25,
   "id": "f3e9a74c",
   "metadata": {},
   "outputs": [
    {
     "name": "stdout",
     "output_type": "stream",
     "text": [
      "434.36     11\n",
      "832.55     11\n",
      "824.36     11\n",
      "935.74     11\n",
      "100.3      11\n",
      "           ..\n",
      "1194.9      1\n",
      "2860.18     1\n",
      "40.87       1\n",
      "1285.14     1\n",
      "502.38      1\n",
      "Name: Outstanding_Debt, Length: 9776, dtype: int64\n"
     ]
    }
   ],
   "source": [
    "#Changing the outstanding debt to a numeric value\n",
    "\n",
    "print(data['Outstanding_Debt'].value_counts(dropna=False))\n",
    "data[['Outstanding_Debt']] = data[['Outstanding_Debt']].apply(pd.to_numeric)"
   ]
  },
  {
   "cell_type": "code",
   "execution_count": 26,
   "id": "ffd275bd",
   "metadata": {},
   "outputs": [
    {
     "name": "stdout",
     "output_type": "stream",
     "text": [
      "<class 'pandas.core.frame.DataFrame'>\n",
      "Int64Index: 33839 entries, 6 to 99999\n",
      "Data columns (total 21 columns):\n",
      " #   Column                    Non-Null Count  Dtype  \n",
      "---  ------                    --------------  -----  \n",
      " 0   Age                       33839 non-null  int64  \n",
      " 1   Annual_Income             33839 non-null  float64\n",
      " 2   Monthly_Inhand_Salary     33839 non-null  float64\n",
      " 3   Num_Bank_Accounts         33839 non-null  int64  \n",
      " 4   Num_Credit_Card           33839 non-null  int64  \n",
      " 5   Interest_Rate             33839 non-null  int64  \n",
      " 6   Num_of_Loan               33839 non-null  int64  \n",
      " 7   Delay_from_due_date       33839 non-null  int64  \n",
      " 8   Num_of_Delayed_Payment    33839 non-null  int64  \n",
      " 9   Changed_Credit_Limit      33839 non-null  float64\n",
      " 10  Num_Credit_Inquiries      33839 non-null  float64\n",
      " 11  Credit_Mix                33839 non-null  int64  \n",
      " 12  Outstanding_Debt          33839 non-null  float64\n",
      " 13  Credit_Utilization_Ratio  33839 non-null  float64\n",
      " 14  Credit_History_Age        33839 non-null  object \n",
      " 15  Payment_of_Min_Amount     33839 non-null  object \n",
      " 16  Total_EMI_per_month       33839 non-null  float64\n",
      " 17  Amount_invested_monthly   33839 non-null  object \n",
      " 18  Payment_Behaviour         33839 non-null  object \n",
      " 19  Monthly_Balance           33839 non-null  object \n",
      " 20  Credit_Score              33839 non-null  object \n",
      "dtypes: float64(7), int64(8), object(6)\n",
      "memory usage: 5.7+ MB\n"
     ]
    }
   ],
   "source": [
    "data.info()"
   ]
  },
  {
   "cell_type": "code",
   "execution_count": 27,
   "id": "7f6616ad",
   "metadata": {},
   "outputs": [
    {
     "name": "stdout",
     "output_type": "stream",
     "text": [
      "18 Years and 4 Months     185\n",
      "19 Years and 9 Months     176\n",
      "19 Years and 5 Months     172\n",
      "15 Years and 11 Months    164\n",
      "16 Years and 2 Months     163\n",
      "                         ... \n",
      "33 Years and 8 Months       8\n",
      "0 Years and 4 Months        8\n",
      "0 Years and 3 Months        6\n",
      "0 Years and 2 Months        6\n",
      "33 Years and 7 Months       6\n",
      "Name: Credit_History_Age, Length: 403, dtype: int64\n"
     ]
    }
   ],
   "source": [
    "#Replace Credit History Age to numeric and keeping the year part only\n",
    "\n",
    "print(data['Credit_History_Age'].value_counts(dropna=False))\n",
    "data['Credit_History_Age'] = data['Credit_History_Age'].str[:2]\n",
    "data[['Credit_History_Age']] = data[['Credit_History_Age']].apply(pd.to_numeric)"
   ]
  },
  {
   "cell_type": "code",
   "execution_count": 28,
   "id": "44e63c00",
   "metadata": {},
   "outputs": [
    {
     "name": "stdout",
     "output_type": "stream",
     "text": [
      "Yes    19034\n",
      "No     10806\n",
      "NM      3999\n",
      "Name: Payment_of_Min_Amount, dtype: int64\n"
     ]
    }
   ],
   "source": [
    "#Dropping the \"NM\" values from the 'Payment_of_Min_Amount' and keeping only the 'Yes/NO' ones. Replacing them with 1/0\n",
    "\n",
    "print(data['Payment_of_Min_Amount'].value_counts(dropna=False))\n",
    "data = data.replace(['Yes', 'No', 'NM'], [1, 0, 3])\n",
    "data['Payment_of_Min_Amount'] = data[['Payment_of_Min_Amount']].apply(pd.to_numeric)\n",
    "data = data.loc[(data[\"Payment_of_Min_Amount\"] < 3)]"
   ]
  },
  {
   "cell_type": "code",
   "execution_count": 29,
   "id": "19c84f78",
   "metadata": {},
   "outputs": [
    {
     "name": "stdout",
     "output_type": "stream",
     "text": [
      "<class 'pandas.core.frame.DataFrame'>\n",
      "Int64Index: 29840 entries, 6 to 99999\n",
      "Data columns (total 21 columns):\n",
      " #   Column                    Non-Null Count  Dtype  \n",
      "---  ------                    --------------  -----  \n",
      " 0   Age                       29840 non-null  int64  \n",
      " 1   Annual_Income             29840 non-null  float64\n",
      " 2   Monthly_Inhand_Salary     29840 non-null  float64\n",
      " 3   Num_Bank_Accounts         29840 non-null  int64  \n",
      " 4   Num_Credit_Card           29840 non-null  int64  \n",
      " 5   Interest_Rate             29840 non-null  int64  \n",
      " 6   Num_of_Loan               29840 non-null  int64  \n",
      " 7   Delay_from_due_date       29840 non-null  int64  \n",
      " 8   Num_of_Delayed_Payment    29840 non-null  int64  \n",
      " 9   Changed_Credit_Limit      29840 non-null  float64\n",
      " 10  Num_Credit_Inquiries      29840 non-null  float64\n",
      " 11  Credit_Mix                29840 non-null  int64  \n",
      " 12  Outstanding_Debt          29840 non-null  float64\n",
      " 13  Credit_Utilization_Ratio  29840 non-null  float64\n",
      " 14  Credit_History_Age        29840 non-null  int64  \n",
      " 15  Payment_of_Min_Amount     29840 non-null  int64  \n",
      " 16  Total_EMI_per_month       29840 non-null  float64\n",
      " 17  Amount_invested_monthly   29840 non-null  object \n",
      " 18  Payment_Behaviour         29840 non-null  object \n",
      " 19  Monthly_Balance           29840 non-null  object \n",
      " 20  Credit_Score              29840 non-null  object \n",
      "dtypes: float64(7), int64(10), object(4)\n",
      "memory usage: 5.0+ MB\n"
     ]
    }
   ],
   "source": [
    "data.info()"
   ]
  },
  {
   "cell_type": "code",
   "execution_count": 30,
   "id": "cf3de3cf",
   "metadata": {
    "scrolled": true
   },
   "outputs": [
    {
     "name": "stdout",
     "output_type": "stream",
     "text": [
      "10000                 1336\n",
      "0.0                     66\n",
      "178.3440674122349        1\n",
      "355.67824794714767       1\n",
      "20.185232319922267       1\n",
      "                      ... \n",
      "30.974483747540788       1\n",
      "117.95719632279408       1\n",
      "84.29158013392805        1\n",
      "86.09071179397442        1\n",
      "167.1638651610451        1\n",
      "Name: Amount_invested_monthly, Length: 28440, dtype: int64\n"
     ]
    }
   ],
   "source": [
    "#Changing the Amount_invested_monthly to a numeric value\n",
    "print(data['Amount_invested_monthly'].value_counts(dropna=False))\n",
    "data[['Amount_invested_monthly']] = data[['Amount_invested_monthly']].apply(pd.to_numeric)"
   ]
  },
  {
   "cell_type": "code",
   "execution_count": 31,
   "id": "6c9b4358",
   "metadata": {},
   "outputs": [
    {
     "name": "stdout",
     "output_type": "stream",
     "text": [
      "<class 'pandas.core.frame.DataFrame'>\n",
      "Int64Index: 29840 entries, 6 to 99999\n",
      "Data columns (total 21 columns):\n",
      " #   Column                    Non-Null Count  Dtype  \n",
      "---  ------                    --------------  -----  \n",
      " 0   Age                       29840 non-null  int64  \n",
      " 1   Annual_Income             29840 non-null  float64\n",
      " 2   Monthly_Inhand_Salary     29840 non-null  float64\n",
      " 3   Num_Bank_Accounts         29840 non-null  int64  \n",
      " 4   Num_Credit_Card           29840 non-null  int64  \n",
      " 5   Interest_Rate             29840 non-null  int64  \n",
      " 6   Num_of_Loan               29840 non-null  int64  \n",
      " 7   Delay_from_due_date       29840 non-null  int64  \n",
      " 8   Num_of_Delayed_Payment    29840 non-null  int64  \n",
      " 9   Changed_Credit_Limit      29840 non-null  float64\n",
      " 10  Num_Credit_Inquiries      29840 non-null  float64\n",
      " 11  Credit_Mix                29840 non-null  int64  \n",
      " 12  Outstanding_Debt          29840 non-null  float64\n",
      " 13  Credit_Utilization_Ratio  29840 non-null  float64\n",
      " 14  Credit_History_Age        29840 non-null  int64  \n",
      " 15  Payment_of_Min_Amount     29840 non-null  int64  \n",
      " 16  Total_EMI_per_month       29840 non-null  float64\n",
      " 17  Amount_invested_monthly   29840 non-null  float64\n",
      " 18  Payment_Behaviour         29840 non-null  object \n",
      " 19  Monthly_Balance           29840 non-null  object \n",
      " 20  Credit_Score              29840 non-null  object \n",
      "dtypes: float64(8), int64(10), object(3)\n",
      "memory usage: 5.0+ MB\n"
     ]
    }
   ],
   "source": [
    "data.info()"
   ]
  },
  {
   "cell_type": "code",
   "execution_count": 32,
   "id": "0ce05a3f",
   "metadata": {
    "scrolled": true
   },
   "outputs": [
    {
     "name": "stdout",
     "output_type": "stream",
     "text": [
      "LowspentSmallvaluepayments      7912\n",
      "HighspentMediumvaluepayments    5266\n",
      "LowspentMediumvaluepayments     3992\n",
      "HighspentLargevaluepayments     3913\n",
      "HighspentSmallvaluepayments     3427\n",
      "LowspentLargevaluepayments      3138\n",
      "98                              2192\n",
      "Name: Payment_Behaviour, dtype: int64\n"
     ]
    }
   ],
   "source": [
    "#Droppping the instances with the '98' value for the Payment Behaviour, then casting the six different classes into numeric values from 1 to 6\n",
    "\n",
    "print(data['Payment_Behaviour'].value_counts(dropna=False))\n",
    "data = data.replace(['HighspentLargevaluepayments', 'HighspentMediumvaluepayments', 'HighspentSmallvaluepayments','LowspentLargevaluepayments','LowspentMediumvaluepayments','LowspentSmallvaluepayments'], [6, 5, 4, 3, 2, 1])\n",
    "data[['Payment_Behaviour']] = data[['Payment_Behaviour']].apply(pd.to_numeric)"
   ]
  },
  {
   "cell_type": "code",
   "execution_count": 33,
   "id": "927e6bbd",
   "metadata": {},
   "outputs": [
    {
     "name": "stdout",
     "output_type": "stream",
     "text": [
      "<class 'pandas.core.frame.DataFrame'>\n",
      "Int64Index: 29840 entries, 6 to 99999\n",
      "Data columns (total 21 columns):\n",
      " #   Column                    Non-Null Count  Dtype  \n",
      "---  ------                    --------------  -----  \n",
      " 0   Age                       29840 non-null  int64  \n",
      " 1   Annual_Income             29840 non-null  float64\n",
      " 2   Monthly_Inhand_Salary     29840 non-null  float64\n",
      " 3   Num_Bank_Accounts         29840 non-null  int64  \n",
      " 4   Num_Credit_Card           29840 non-null  int64  \n",
      " 5   Interest_Rate             29840 non-null  int64  \n",
      " 6   Num_of_Loan               29840 non-null  int64  \n",
      " 7   Delay_from_due_date       29840 non-null  int64  \n",
      " 8   Num_of_Delayed_Payment    29840 non-null  int64  \n",
      " 9   Changed_Credit_Limit      29840 non-null  float64\n",
      " 10  Num_Credit_Inquiries      29840 non-null  float64\n",
      " 11  Credit_Mix                29840 non-null  int64  \n",
      " 12  Outstanding_Debt          29840 non-null  float64\n",
      " 13  Credit_Utilization_Ratio  29840 non-null  float64\n",
      " 14  Credit_History_Age        29840 non-null  int64  \n",
      " 15  Payment_of_Min_Amount     29840 non-null  int64  \n",
      " 16  Total_EMI_per_month       29840 non-null  float64\n",
      " 17  Amount_invested_monthly   29840 non-null  float64\n",
      " 18  Payment_Behaviour         29840 non-null  int64  \n",
      " 19  Monthly_Balance           29840 non-null  object \n",
      " 20  Credit_Score              29840 non-null  object \n",
      "dtypes: float64(8), int64(11), object(2)\n",
      "memory usage: 5.0+ MB\n"
     ]
    }
   ],
   "source": [
    "data.info()"
   ]
  },
  {
   "cell_type": "code",
   "execution_count": 34,
   "id": "04f72910",
   "metadata": {
    "scrolled": true
   },
   "outputs": [
    {
     "name": "stdout",
     "output_type": "stream",
     "text": [
      "333333333333333333333333333    2\n",
      "244.5653167062043              1\n",
      "263.5431823187104              1\n",
      "374.9437003925682              1\n",
      "233.34687368752728             1\n",
      "                              ..\n",
      "521.6814439072377              1\n",
      "526.7317913022313              1\n",
      "452.2044490665367              1\n",
      "385.4159640192141              1\n",
      "393.6736955618808              1\n",
      "Name: Monthly_Balance, Length: 29839, dtype: int64\n"
     ]
    }
   ],
   "source": [
    "#Keeping the reasonable monthly balance (value < 10000), and the converting to numeric values\n",
    "\n",
    "print(data['Monthly_Balance'].value_counts(dropna=False))\n",
    "data[['Monthly_Balance']] = data[['Monthly_Balance']].astype('float64')\n",
    "data = data.loc[(data[\"Monthly_Balance\"] < 10000)]"
   ]
  },
  {
   "cell_type": "code",
   "execution_count": 35,
   "id": "b469ecce",
   "metadata": {},
   "outputs": [
    {
     "name": "stdout",
     "output_type": "stream",
     "text": [
      "<class 'pandas.core.frame.DataFrame'>\n",
      "Int64Index: 29838 entries, 6 to 99999\n",
      "Data columns (total 21 columns):\n",
      " #   Column                    Non-Null Count  Dtype  \n",
      "---  ------                    --------------  -----  \n",
      " 0   Age                       29838 non-null  int64  \n",
      " 1   Annual_Income             29838 non-null  float64\n",
      " 2   Monthly_Inhand_Salary     29838 non-null  float64\n",
      " 3   Num_Bank_Accounts         29838 non-null  int64  \n",
      " 4   Num_Credit_Card           29838 non-null  int64  \n",
      " 5   Interest_Rate             29838 non-null  int64  \n",
      " 6   Num_of_Loan               29838 non-null  int64  \n",
      " 7   Delay_from_due_date       29838 non-null  int64  \n",
      " 8   Num_of_Delayed_Payment    29838 non-null  int64  \n",
      " 9   Changed_Credit_Limit      29838 non-null  float64\n",
      " 10  Num_Credit_Inquiries      29838 non-null  float64\n",
      " 11  Credit_Mix                29838 non-null  int64  \n",
      " 12  Outstanding_Debt          29838 non-null  float64\n",
      " 13  Credit_Utilization_Ratio  29838 non-null  float64\n",
      " 14  Credit_History_Age        29838 non-null  int64  \n",
      " 15  Payment_of_Min_Amount     29838 non-null  int64  \n",
      " 16  Total_EMI_per_month       29838 non-null  float64\n",
      " 17  Amount_invested_monthly   29838 non-null  float64\n",
      " 18  Payment_Behaviour         29838 non-null  int64  \n",
      " 19  Monthly_Balance           29838 non-null  float64\n",
      " 20  Credit_Score              29838 non-null  object \n",
      "dtypes: float64(9), int64(11), object(1)\n",
      "memory usage: 5.0+ MB\n"
     ]
    }
   ],
   "source": [
    "data.info()"
   ]
  },
  {
   "cell_type": "code",
   "execution_count": 36,
   "id": "f0346aaa",
   "metadata": {},
   "outputs": [
    {
     "name": "stdout",
     "output_type": "stream",
     "text": [
      "2       16311\n",
      "Poor     9071\n",
      "3        4456\n",
      "Name: Credit_Score, dtype: int64\n"
     ]
    }
   ],
   "source": [
    "#Convert Credit Score from Poor, Standard, and Good to 1, 2, and 3\n",
    "\n",
    "print(data['Credit_Score'].value_counts(dropna=False))\n",
    "data = data.replace(['Poor', 'Standard', 'Good'], [1, 2, 3])\n",
    "data['Credit_Score'] = data[['Credit_Score']].apply(pd.to_numeric)                                                                  "
   ]
  },
  {
   "cell_type": "code",
   "execution_count": 37,
   "id": "c0e7004d",
   "metadata": {
    "scrolled": false
   },
   "outputs": [
    {
     "name": "stdout",
     "output_type": "stream",
     "text": [
      "<class 'pandas.core.frame.DataFrame'>\n",
      "Int64Index: 29838 entries, 6 to 99999\n",
      "Data columns (total 21 columns):\n",
      " #   Column                    Non-Null Count  Dtype  \n",
      "---  ------                    --------------  -----  \n",
      " 0   Age                       29838 non-null  int64  \n",
      " 1   Annual_Income             29838 non-null  float64\n",
      " 2   Monthly_Inhand_Salary     29838 non-null  float64\n",
      " 3   Num_Bank_Accounts         29838 non-null  int64  \n",
      " 4   Num_Credit_Card           29838 non-null  int64  \n",
      " 5   Interest_Rate             29838 non-null  int64  \n",
      " 6   Num_of_Loan               29838 non-null  int64  \n",
      " 7   Delay_from_due_date       29838 non-null  int64  \n",
      " 8   Num_of_Delayed_Payment    29838 non-null  int64  \n",
      " 9   Changed_Credit_Limit      29838 non-null  float64\n",
      " 10  Num_Credit_Inquiries      29838 non-null  float64\n",
      " 11  Credit_Mix                29838 non-null  int64  \n",
      " 12  Outstanding_Debt          29838 non-null  float64\n",
      " 13  Credit_Utilization_Ratio  29838 non-null  float64\n",
      " 14  Credit_History_Age        29838 non-null  int64  \n",
      " 15  Payment_of_Min_Amount     29838 non-null  int64  \n",
      " 16  Total_EMI_per_month       29838 non-null  float64\n",
      " 17  Amount_invested_monthly   29838 non-null  float64\n",
      " 18  Payment_Behaviour         29838 non-null  int64  \n",
      " 19  Monthly_Balance           29838 non-null  float64\n",
      " 20  Credit_Score              29838 non-null  int64  \n",
      "dtypes: float64(9), int64(12)\n",
      "memory usage: 5.0 MB\n"
     ]
    }
   ],
   "source": [
    "data\n",
    "data.info()"
   ]
  },
  {
   "cell_type": "markdown",
   "id": "49a18072",
   "metadata": {},
   "source": [
    "Now that the data has been cleaned and simplified. We can describe it again to note a less skewed final view. "
   ]
  },
  {
   "cell_type": "code",
   "execution_count": 38,
   "id": "d079819e",
   "metadata": {
    "scrolled": true
   },
   "outputs": [
    {
     "data": {
      "text/html": [
       "<div>\n",
       "<style scoped>\n",
       "    .dataframe tbody tr th:only-of-type {\n",
       "        vertical-align: middle;\n",
       "    }\n",
       "\n",
       "    .dataframe tbody tr th {\n",
       "        vertical-align: top;\n",
       "    }\n",
       "\n",
       "    .dataframe thead th {\n",
       "        text-align: right;\n",
       "    }\n",
       "</style>\n",
       "<table border=\"1\" class=\"dataframe\">\n",
       "  <thead>\n",
       "    <tr style=\"text-align: right;\">\n",
       "      <th></th>\n",
       "      <th>count</th>\n",
       "      <th>mean</th>\n",
       "      <th>std</th>\n",
       "      <th>min</th>\n",
       "      <th>25%</th>\n",
       "      <th>50%</th>\n",
       "      <th>75%</th>\n",
       "      <th>max</th>\n",
       "    </tr>\n",
       "  </thead>\n",
       "  <tbody>\n",
       "    <tr>\n",
       "      <th>Age</th>\n",
       "      <td>29838.0</td>\n",
       "      <td>32.939875</td>\n",
       "      <td>1.070644e+01</td>\n",
       "      <td>14.000000</td>\n",
       "      <td>24.000000</td>\n",
       "      <td>33.000000</td>\n",
       "      <td>41.000000</td>\n",
       "      <td>9.500000e+01</td>\n",
       "    </tr>\n",
       "    <tr>\n",
       "      <th>Annual_Income</th>\n",
       "      <td>29838.0</td>\n",
       "      <td>172819.822567</td>\n",
       "      <td>1.439527e+06</td>\n",
       "      <td>7005.930000</td>\n",
       "      <td>18508.070000</td>\n",
       "      <td>34669.870000</td>\n",
       "      <td>65497.605000</td>\n",
       "      <td>2.419806e+07</td>\n",
       "    </tr>\n",
       "    <tr>\n",
       "      <th>Monthly_Inhand_Salary</th>\n",
       "      <td>29838.0</td>\n",
       "      <td>3746.172305</td>\n",
       "      <td>2.763656e+03</td>\n",
       "      <td>303.645417</td>\n",
       "      <td>1548.323750</td>\n",
       "      <td>2868.609167</td>\n",
       "      <td>5358.051667</td>\n",
       "      <td>1.236176e+04</td>\n",
       "    </tr>\n",
       "    <tr>\n",
       "      <th>Num_Bank_Accounts</th>\n",
       "      <td>29838.0</td>\n",
       "      <td>5.503385</td>\n",
       "      <td>2.526510e+00</td>\n",
       "      <td>0.000000</td>\n",
       "      <td>4.000000</td>\n",
       "      <td>6.000000</td>\n",
       "      <td>7.000000</td>\n",
       "      <td>1.100000e+01</td>\n",
       "    </tr>\n",
       "    <tr>\n",
       "      <th>Num_Credit_Card</th>\n",
       "      <td>29838.0</td>\n",
       "      <td>5.614116</td>\n",
       "      <td>2.050596e+00</td>\n",
       "      <td>0.000000</td>\n",
       "      <td>4.000000</td>\n",
       "      <td>6.000000</td>\n",
       "      <td>7.000000</td>\n",
       "      <td>1.100000e+01</td>\n",
       "    </tr>\n",
       "    <tr>\n",
       "      <th>Interest_Rate</th>\n",
       "      <td>29838.0</td>\n",
       "      <td>14.993532</td>\n",
       "      <td>8.716494e+00</td>\n",
       "      <td>1.000000</td>\n",
       "      <td>8.000000</td>\n",
       "      <td>14.000000</td>\n",
       "      <td>20.000000</td>\n",
       "      <td>3.400000e+01</td>\n",
       "    </tr>\n",
       "    <tr>\n",
       "      <th>Num_of_Loan</th>\n",
       "      <td>29838.0</td>\n",
       "      <td>3.877472</td>\n",
       "      <td>2.156059e+00</td>\n",
       "      <td>1.000000</td>\n",
       "      <td>2.000000</td>\n",
       "      <td>4.000000</td>\n",
       "      <td>5.000000</td>\n",
       "      <td>9.000000e+00</td>\n",
       "    </tr>\n",
       "    <tr>\n",
       "      <th>Delay_from_due_date</th>\n",
       "      <td>29838.0</td>\n",
       "      <td>20.645150</td>\n",
       "      <td>1.319568e+01</td>\n",
       "      <td>-5.000000</td>\n",
       "      <td>10.000000</td>\n",
       "      <td>18.000000</td>\n",
       "      <td>28.000000</td>\n",
       "      <td>5.500000e+01</td>\n",
       "    </tr>\n",
       "    <tr>\n",
       "      <th>Num_of_Delayed_Payment</th>\n",
       "      <td>29838.0</td>\n",
       "      <td>13.788324</td>\n",
       "      <td>5.941970e+00</td>\n",
       "      <td>1.000000</td>\n",
       "      <td>9.000000</td>\n",
       "      <td>14.000000</td>\n",
       "      <td>18.000000</td>\n",
       "      <td>2.800000e+01</td>\n",
       "    </tr>\n",
       "    <tr>\n",
       "      <th>Changed_Credit_Limit</th>\n",
       "      <td>29838.0</td>\n",
       "      <td>10.836254</td>\n",
       "      <td>6.680528e+00</td>\n",
       "      <td>0.010000</td>\n",
       "      <td>5.780000</td>\n",
       "      <td>9.800000</td>\n",
       "      <td>15.420000</td>\n",
       "      <td>3.629000e+01</td>\n",
       "    </tr>\n",
       "    <tr>\n",
       "      <th>Num_Credit_Inquiries</th>\n",
       "      <td>29838.0</td>\n",
       "      <td>6.010322</td>\n",
       "      <td>3.866669e+00</td>\n",
       "      <td>0.000000</td>\n",
       "      <td>3.000000</td>\n",
       "      <td>6.000000</td>\n",
       "      <td>9.000000</td>\n",
       "      <td>1.700000e+01</td>\n",
       "    </tr>\n",
       "    <tr>\n",
       "      <th>Credit_Mix</th>\n",
       "      <td>29838.0</td>\n",
       "      <td>2.015551</td>\n",
       "      <td>7.094794e-01</td>\n",
       "      <td>1.000000</td>\n",
       "      <td>2.000000</td>\n",
       "      <td>2.000000</td>\n",
       "      <td>3.000000</td>\n",
       "      <td>3.000000e+00</td>\n",
       "    </tr>\n",
       "    <tr>\n",
       "      <th>Outstanding_Debt</th>\n",
       "      <td>29838.0</td>\n",
       "      <td>1464.601410</td>\n",
       "      <td>1.158395e+03</td>\n",
       "      <td>0.230000</td>\n",
       "      <td>589.870000</td>\n",
       "      <td>1211.410000</td>\n",
       "      <td>2044.390000</td>\n",
       "      <td>4.998070e+03</td>\n",
       "    </tr>\n",
       "    <tr>\n",
       "      <th>Credit_Utilization_Ratio</th>\n",
       "      <td>29838.0</td>\n",
       "      <td>32.163329</td>\n",
       "      <td>5.047551e+00</td>\n",
       "      <td>21.027665</td>\n",
       "      <td>27.987426</td>\n",
       "      <td>32.157911</td>\n",
       "      <td>36.384847</td>\n",
       "      <td>4.672465e+01</td>\n",
       "    </tr>\n",
       "    <tr>\n",
       "      <th>Credit_History_Age</th>\n",
       "      <td>29838.0</td>\n",
       "      <td>17.466352</td>\n",
       "      <td>8.253974e+00</td>\n",
       "      <td>0.000000</td>\n",
       "      <td>11.000000</td>\n",
       "      <td>17.000000</td>\n",
       "      <td>24.000000</td>\n",
       "      <td>3.300000e+01</td>\n",
       "    </tr>\n",
       "    <tr>\n",
       "      <th>Payment_of_Min_Amount</th>\n",
       "      <td>29838.0</td>\n",
       "      <td>0.637878</td>\n",
       "      <td>4.806219e-01</td>\n",
       "      <td>0.000000</td>\n",
       "      <td>0.000000</td>\n",
       "      <td>1.000000</td>\n",
       "      <td>1.000000</td>\n",
       "      <td>1.000000e+00</td>\n",
       "    </tr>\n",
       "    <tr>\n",
       "      <th>Total_EMI_per_month</th>\n",
       "      <td>29838.0</td>\n",
       "      <td>96.622125</td>\n",
       "      <td>7.664571e+01</td>\n",
       "      <td>4.462837</td>\n",
       "      <td>38.115968</td>\n",
       "      <td>70.156983</td>\n",
       "      <td>138.799316</td>\n",
       "      <td>3.457416e+02</td>\n",
       "    </tr>\n",
       "    <tr>\n",
       "      <th>Amount_invested_monthly</th>\n",
       "      <td>29838.0</td>\n",
       "      <td>612.415819</td>\n",
       "      <td>2.038666e+03</td>\n",
       "      <td>0.000000</td>\n",
       "      <td>69.761112</td>\n",
       "      <td>125.863267</td>\n",
       "      <td>237.804425</td>\n",
       "      <td>1.000000e+04</td>\n",
       "    </tr>\n",
       "    <tr>\n",
       "      <th>Payment_Behaviour</th>\n",
       "      <td>29838.0</td>\n",
       "      <td>10.176151</td>\n",
       "      <td>2.479366e+01</td>\n",
       "      <td>1.000000</td>\n",
       "      <td>1.000000</td>\n",
       "      <td>3.000000</td>\n",
       "      <td>5.000000</td>\n",
       "      <td>9.800000e+01</td>\n",
       "    </tr>\n",
       "    <tr>\n",
       "      <th>Monthly_Balance</th>\n",
       "      <td>29838.0</td>\n",
       "      <td>375.628396</td>\n",
       "      <td>1.796035e+02</td>\n",
       "      <td>0.131136</td>\n",
       "      <td>265.129596</td>\n",
       "      <td>323.920520</td>\n",
       "      <td>438.200781</td>\n",
       "      <td>1.311698e+03</td>\n",
       "    </tr>\n",
       "    <tr>\n",
       "      <th>Credit_Score</th>\n",
       "      <td>29838.0</td>\n",
       "      <td>1.845331</td>\n",
       "      <td>6.553168e-01</td>\n",
       "      <td>1.000000</td>\n",
       "      <td>1.000000</td>\n",
       "      <td>2.000000</td>\n",
       "      <td>2.000000</td>\n",
       "      <td>3.000000e+00</td>\n",
       "    </tr>\n",
       "  </tbody>\n",
       "</table>\n",
       "</div>"
      ],
      "text/plain": [
       "                            count           mean           std          min  \\\n",
       "Age                       29838.0      32.939875  1.070644e+01    14.000000   \n",
       "Annual_Income             29838.0  172819.822567  1.439527e+06  7005.930000   \n",
       "Monthly_Inhand_Salary     29838.0    3746.172305  2.763656e+03   303.645417   \n",
       "Num_Bank_Accounts         29838.0       5.503385  2.526510e+00     0.000000   \n",
       "Num_Credit_Card           29838.0       5.614116  2.050596e+00     0.000000   \n",
       "Interest_Rate             29838.0      14.993532  8.716494e+00     1.000000   \n",
       "Num_of_Loan               29838.0       3.877472  2.156059e+00     1.000000   \n",
       "Delay_from_due_date       29838.0      20.645150  1.319568e+01    -5.000000   \n",
       "Num_of_Delayed_Payment    29838.0      13.788324  5.941970e+00     1.000000   \n",
       "Changed_Credit_Limit      29838.0      10.836254  6.680528e+00     0.010000   \n",
       "Num_Credit_Inquiries      29838.0       6.010322  3.866669e+00     0.000000   \n",
       "Credit_Mix                29838.0       2.015551  7.094794e-01     1.000000   \n",
       "Outstanding_Debt          29838.0    1464.601410  1.158395e+03     0.230000   \n",
       "Credit_Utilization_Ratio  29838.0      32.163329  5.047551e+00    21.027665   \n",
       "Credit_History_Age        29838.0      17.466352  8.253974e+00     0.000000   \n",
       "Payment_of_Min_Amount     29838.0       0.637878  4.806219e-01     0.000000   \n",
       "Total_EMI_per_month       29838.0      96.622125  7.664571e+01     4.462837   \n",
       "Amount_invested_monthly   29838.0     612.415819  2.038666e+03     0.000000   \n",
       "Payment_Behaviour         29838.0      10.176151  2.479366e+01     1.000000   \n",
       "Monthly_Balance           29838.0     375.628396  1.796035e+02     0.131136   \n",
       "Credit_Score              29838.0       1.845331  6.553168e-01     1.000000   \n",
       "\n",
       "                                   25%           50%           75%  \\\n",
       "Age                          24.000000     33.000000     41.000000   \n",
       "Annual_Income             18508.070000  34669.870000  65497.605000   \n",
       "Monthly_Inhand_Salary      1548.323750   2868.609167   5358.051667   \n",
       "Num_Bank_Accounts             4.000000      6.000000      7.000000   \n",
       "Num_Credit_Card               4.000000      6.000000      7.000000   \n",
       "Interest_Rate                 8.000000     14.000000     20.000000   \n",
       "Num_of_Loan                   2.000000      4.000000      5.000000   \n",
       "Delay_from_due_date          10.000000     18.000000     28.000000   \n",
       "Num_of_Delayed_Payment        9.000000     14.000000     18.000000   \n",
       "Changed_Credit_Limit          5.780000      9.800000     15.420000   \n",
       "Num_Credit_Inquiries          3.000000      6.000000      9.000000   \n",
       "Credit_Mix                    2.000000      2.000000      3.000000   \n",
       "Outstanding_Debt            589.870000   1211.410000   2044.390000   \n",
       "Credit_Utilization_Ratio     27.987426     32.157911     36.384847   \n",
       "Credit_History_Age           11.000000     17.000000     24.000000   \n",
       "Payment_of_Min_Amount         0.000000      1.000000      1.000000   \n",
       "Total_EMI_per_month          38.115968     70.156983    138.799316   \n",
       "Amount_invested_monthly      69.761112    125.863267    237.804425   \n",
       "Payment_Behaviour             1.000000      3.000000      5.000000   \n",
       "Monthly_Balance             265.129596    323.920520    438.200781   \n",
       "Credit_Score                  1.000000      2.000000      2.000000   \n",
       "\n",
       "                                   max  \n",
       "Age                       9.500000e+01  \n",
       "Annual_Income             2.419806e+07  \n",
       "Monthly_Inhand_Salary     1.236176e+04  \n",
       "Num_Bank_Accounts         1.100000e+01  \n",
       "Num_Credit_Card           1.100000e+01  \n",
       "Interest_Rate             3.400000e+01  \n",
       "Num_of_Loan               9.000000e+00  \n",
       "Delay_from_due_date       5.500000e+01  \n",
       "Num_of_Delayed_Payment    2.800000e+01  \n",
       "Changed_Credit_Limit      3.629000e+01  \n",
       "Num_Credit_Inquiries      1.700000e+01  \n",
       "Credit_Mix                3.000000e+00  \n",
       "Outstanding_Debt          4.998070e+03  \n",
       "Credit_Utilization_Ratio  4.672465e+01  \n",
       "Credit_History_Age        3.300000e+01  \n",
       "Payment_of_Min_Amount     1.000000e+00  \n",
       "Total_EMI_per_month       3.457416e+02  \n",
       "Amount_invested_monthly   1.000000e+04  \n",
       "Payment_Behaviour         9.800000e+01  \n",
       "Monthly_Balance           1.311698e+03  \n",
       "Credit_Score              3.000000e+00  "
      ]
     },
     "execution_count": 38,
     "metadata": {},
     "output_type": "execute_result"
    }
   ],
   "source": [
    "data.describe().T"
   ]
  },
  {
   "cell_type": "code",
   "execution_count": 39,
   "id": "8b3b1a37",
   "metadata": {
    "scrolled": true
   },
   "outputs": [
    {
     "data": {
      "image/png": "[encoded data removed]",
      "text/plain": [
       "<Figure size 1800x720 with 2 Axes>"
      ]
     },
     "metadata": {
      "needs_background": "light"
     },
     "output_type": "display_data"
    }
   ],
   "source": [
    "mn.matrix(data)\n",
    "plt.title(\"Post-Cleaning\", fontsize=30)\n",
    "plt.show()"
   ]
  },
  {
   "cell_type": "markdown",
   "id": "c5337910",
   "metadata": {},
   "source": [
    "Now, we have fully cleaned and prepared all the data to be used in our logistic regression classification algorithm. We have clean dataset of 29838 instances, and 20 different clean numeric features ['Age', 'Annual_Income', 'Monthly_Inhand_Salary', 'Num_Bank_Accounts', 'Num_Credit_Card', 'Interest_Rate', 'Num_of_Loan', 'Delay_from_due_date', 'Num_of_Delayed_Payment', 'Changed_Credit_Limit', 'Num_Credit_Inquiries', 'Credit_Mix', 'Outstanding_Debt', 'Credit_Utilization_Ratio', 'Credit_History_Age', 'Payment_of_Min_Amount', 'Total_EMI_per_month', 'Amount_invested_monthly', 'Payment_Behaviour', 'Monthly_Balance'] and one target variable which is the credit score bracket, labeled in the manner { \"Good\" : 3, \"Standard\" : 2, \"Poor\": 1}."
   ]
  },
  {
   "cell_type": "markdown",
   "id": "5b6d0955",
   "metadata": {},
   "source": [
    "### Splitting data"
   ]
  },
  {
   "cell_type": "code",
   "execution_count": 40,
   "id": "fbdc1572",
   "metadata": {},
   "outputs": [
    {
     "name": "stdout",
     "output_type": "stream",
     "text": [
      "The shape of the data matrix: (29838, 20)\n",
      "The shape of the target variable: (29838,)\n"
     ]
    }
   ],
   "source": [
    "# Creating our data matrix (X) and our target variable (y) that we will work on from the dataframe we have\n",
    "X = data[['Age', 'Annual_Income', 'Monthly_Inhand_Salary', 'Num_Bank_Accounts', 'Num_Credit_Card', 'Interest_Rate', 'Num_of_Loan', 'Delay_from_due_date', 'Num_of_Delayed_Payment', 'Changed_Credit_Limit', 'Num_Credit_Inquiries', 'Credit_Mix', 'Outstanding_Debt', 'Credit_Utilization_Ratio', 'Credit_History_Age', 'Payment_of_Min_Amount', 'Total_EMI_per_month', 'Amount_invested_monthly', 'Payment_Behaviour', 'Monthly_Balance']].to_numpy()\n",
    "#y = data[['Credit_Score']].to_numpy()\n",
    "y = data.Credit_Score.to_numpy()\n",
    "print(\"The shape of the data matrix: \" + str(X.shape))\n",
    "print(\"The shape of the target variable: \" + str(y.shape))\n"
   ]
  },
  {
   "cell_type": "code",
   "execution_count": 41,
   "id": "8f306ec5",
   "metadata": {},
   "outputs": [
    {
     "name": "stdout",
     "output_type": "stream",
     "text": [
      "The training matrix and target shapes: (23870, 20) & (23870,)\n",
      "The testing matrix and target shapes: (5968, 20) & (5968,)\n"
     ]
    }
   ],
   "source": [
    "# Dividing the data into training and testing data using an 80% training and 20% testing split.\n",
    "X_train, X_test, y_train, y_test = train_test_split(X.copy(), y.copy(), test_size=0.2, random_state=0)\n",
    "print(\"The training matrix and target shapes: \" + str(X_train.shape)+ ' & ' + str(y_train.shape))\n",
    "print(\"The testing matrix and target shapes: \" + str(X_test.shape)+ ' & ' + str(y_test.shape))"
   ]
  },
  {
   "cell_type": "markdown",
   "id": "e1ea10a9",
   "metadata": {},
   "source": [
    "Question: Argue \"for\" or \"against\" splitting your data using an 80/20 split. That is, why is the 80/20 split appropriate (or not) for your dataset?  \n",
    "\n",
    "Answer: In general, our goal is to keep valuable information accessible to the learning algorithm in the training portion and not hide them in the test portion, but we don't want inaccurate estimation of the generalization errors (overfitting). Balancing this tradeoff is our goal, and when looking into our data after cleaning, re-shuffling, and getting rid of the outliers as we did above, it's clear that the features are distributed more or less evenly over the entire dataset, which is a good thing. Also, the relatively large number of instances we have might even induce the thinking of having a larger ratio for our training data. However, for the purpose of this lab, and specifically for the size of our dataset, we should be fine sticking with Pareto principle and doing the 80/20 split. Actually, I think this is the most appropriate split ratio for our case!"
   ]
  },
  {
   "cell_type": "markdown",
   "id": "a7fd1817",
   "metadata": {},
   "source": [
    "## Modeling"
   ]
  },
  {
   "cell_type": "code",
   "execution_count": 42,
   "id": "a549a7ff",
   "metadata": {},
   "outputs": [
    {
     "name": "stdout",
     "output_type": "stream",
     "text": [
      "Base Binary Logistic Regression Object, Not Trainable\n"
     ]
    }
   ],
   "source": [
    "import numpy as np\n",
    "class BinaryLogisticRegressionBase:\n",
    "    # private:\n",
    "    def __init__(self, eta = 0.01, iterations=20, optimization = 'sa', c = 0, reg = 'none'):\n",
    "        self.eta = eta\n",
    "        self.iters = iterations\n",
    "        # internally we will store the weights as self.w_ to keep with sklearn conventions\n",
    "        self.optim = optimization\n",
    "        self.c = c\n",
    "        self.reg = reg\n",
    "    \n",
    "    def __str__(self):\n",
    "        return 'Base Binary Logistic Regression Object, Not Trainable'\n",
    "    \n",
    "    # convenience, private and static:\n",
    "    @staticmethod\n",
    "    def _sigmoid(theta):\n",
    "        return expit(theta) #1/(1+np.exp(-theta))\n",
    "    \n",
    "    @staticmethod\n",
    "    def _add_intercept(X):\n",
    "        return np.hstack((np.ones((X.shape[0],1)),X)) # add bias term\n",
    "    \n",
    "    # public:\n",
    "    def predict_proba(self, X, add_intercept=True):\n",
    "        # add bias term if requested\n",
    "        Xb = self._add_intercept(X) if add_intercept else X\n",
    "        return self._sigmoid(Xb @ self.w_) # return the probability y=1\n",
    "    \n",
    "    def predict(self,X):\n",
    "        return (self.predict_proba(X)>0.5) #return the actual prediction\n",
    "    \n",
    "    \n",
    "        \n",
    "blr = BinaryLogisticRegressionBase(eta = 0.1)\n",
    "print(blr)"
   ]
  },
  {
   "cell_type": "code",
   "execution_count": 47,
   "id": "4efa60ff",
   "metadata": {},
   "outputs": [
    {
     "name": "stdout",
     "output_type": "stream",
     "text": [
      "Untrained Binary Logistic Regression Object\n"
     ]
    }
   ],
   "source": [
    "from numpy.linalg import pinv\n",
    "from scipy.special import expit\n",
    "\n",
    "# inherit from base class\n",
    "class BinaryLogisticRegression(BinaryLogisticRegressionBase):\n",
    "    #private:\n",
    "    def __str__(self):\n",
    "        if(hasattr(self,'w_')):\n",
    "            return 'Binary Logistic Regression Object with coefficients:\\n'+ str(self.w_) # is we have trained the object\n",
    "        else:\n",
    "            return 'Untrained Binary Logistic Regression Object'\n",
    "        \n",
    "    def _get_gradient(self,X,y):\n",
    "        # programming \\sum_i (yi-g(xi))xi\n",
    "        gradient = np.zeros(self.w_.shape) # set gradient to zero\n",
    "\n",
    "        if self.optim == 'stochastic':\n",
    "            ydiff = y-self.predict_proba(X,add_intercept=False).ravel() # get y difference\n",
    "            gradient = np.mean(X * ydiff[:,np.newaxis], axis=0) # make ydiff a column vector and multiply through\n",
    "            gradient = gradient.reshape(self.w_.shape)\n",
    "            gradient[1:] += self.c * self._get_reg_gradient()\n",
    "        \n",
    "            return gradient\n",
    "\n",
    "        if self.optim == 'stochastic':\n",
    "            idx = np.random.randint(len(y))\n",
    "            ydiff = y[idx]-self.predict_proba(X[idx],add_intercept=False) # get y difference (now scalar)\n",
    "            gradient = X[idx] * ydiff[:,np.newaxis] # make ydiff a column vector and multiply through\n",
    "            \n",
    "            gradient = gradient.reshape(self.w_.shape)\n",
    "            gradient[1:] += self.c * self._get_reg_gradient()\n",
    "            \n",
    "            return gradient\n",
    "\n",
    "        if self.optim == 'newton':\n",
    "            g = self.predict_proba(X,add_intercept=False).ravel() # get sigmoid value for all classes\n",
    "            hessian = X.T @ np.diag(g*(1-g)) @ X - 2 * self.c  # calculate the hessian\n",
    "\n",
    "            ydiff = y-g # get y difference\n",
    "            gradient = np.sum(X * ydiff[:,np.newaxis], axis=0) # make ydiff a column vector and multiply through\n",
    "            gradient = gradient.reshape(self.w_.shape)\n",
    "            gradient[1:] +=  self.c * self._get_reg_gradient()\n",
    "            \n",
    "            return pinv(hessian) @ gradient\n",
    "\n",
    "\n",
    "    #regularization methods\n",
    "    def _get_reg_gradient(self):\n",
    "        #no regularization\n",
    "        if self.reg == 'none':\n",
    "            return self.w_[1:]\n",
    "        elif self.reg == 'l1':\n",
    "            return np.sign(self.w_[1:])\n",
    "        elif self.reg == 'l2':\n",
    "            return -2 * self.w_[1:]\n",
    "        elif self.reg == 'l1l2':\n",
    "            return -2 * self.w_[1:] + np.sign(self.w_[1:])\n",
    "       \n",
    "    # public:\n",
    "    def fit(self, X, y):\n",
    "        Xb = self._add_intercept(X) # add bias term\n",
    "        num_samples, num_features = Xb.shape\n",
    "        \n",
    "        self.w_ = np.zeros((num_features,1)) # init weight vector to zeros\n",
    "        \n",
    "        # for as many as the max iterations\n",
    "        for _ in range(self.iters):\n",
    "            gradient = self._get_gradient(Xb,y)\n",
    "            self.w_ += gradient*self.eta # multiply by learning rate \n",
    "\n",
    "            \n",
    "blr = BinaryLogisticRegression(0.1)\n",
    "print(blr)"
   ]
  },
  {
   "cell_type": "code",
   "execution_count": 48,
   "id": "68a15462",
   "metadata": {},
   "outputs": [
    {
     "name": "stdout",
     "output_type": "stream",
     "text": [
      "Untrained MultiClass Logistic Regression Object\n"
     ]
    }
   ],
   "source": [
    "class LogisticRegression:\n",
    "    def __init__(self, eta = 0.01, iterations=20, optimization = 'sa', c = 0.001, reg = 'none'):\n",
    "        self.eta = eta\n",
    "        self.iters = iterations\n",
    "        # internally we will store the weights as self.w_ to keep with sklearn conventions\n",
    "        self.optim = optimization\n",
    "        self.c = c\n",
    "        self.reg = reg\n",
    "    \n",
    "    def __str__(self):\n",
    "        if(hasattr(self,'w_')):\n",
    "            return 'MultiClass Logistic Regression Object with coefficients:\\n'+ str(self.w_) # is we have trained the object\n",
    "        else:\n",
    "            return 'Untrained MultiClass Logistic Regression Object'\n",
    "        \n",
    "    def fit(self,X,y):\n",
    "        num_samples, num_features = X.shape\n",
    "        self.unique_ = np.unique(y) # get each unique class value\n",
    "        num_unique_classes = len(self.unique_)\n",
    "        self.classifiers_ = [] # will fill this array with binary classifiers\n",
    "        \n",
    "        for i,yval in enumerate(self.unique_): # for each unique value\n",
    "            y_binary = (y==yval) # create a binary problem\n",
    "            # train the binary classifier for this class\n",
    "            blr = BinaryLogisticRegression(eta=self.eta,\n",
    "                                                 iterations=self.iters,\n",
    "                                                 optimization=self.optim,\n",
    "                                                 c=self.c,\n",
    "                                                 reg=self.reg)\n",
    "            blr.fit(X,y_binary)\n",
    "            # add the trained classifier to the list\n",
    "            self.classifiers_.append(blr)\n",
    "            \n",
    "        # save all the weights into one matrix, separate column for each class\n",
    "        self.w_ = np.hstack([x.w_ for x in self.classifiers_]).T\n",
    "        \n",
    "    def predict_proba(self,X):\n",
    "        probs = []\n",
    "        for blr in self.classifiers_:\n",
    "            probs.append(blr.predict_proba(X)) # get probability for each classifier\n",
    "        \n",
    "        return np.hstack(probs) # make into single matrix\n",
    "    \n",
    "    def predict(self,X):\n",
    "        return self.unique_[np.argmax(self.predict_proba(X),axis=1)] # take argmax along row\n",
    "    \n",
    "lr = LogisticRegression(eta=0.1,iterations=1500, optimization='sa')\n",
    "print(lr)"
   ]
  },
  {
   "cell_type": "code",
   "execution_count": 50,
   "id": "58b5d129",
   "metadata": {},
   "outputs": [
    {
     "name": "stdout",
     "output_type": "stream",
     "text": [
      "Accuracy of:  0.3305965147453083\n"
     ]
    }
   ],
   "source": [
    "from sklearn.metrics import accuracy_score\n",
    "\n",
    "lr = LogisticRegression(eta=0.0001, iterations=5000, optimization='stochastic', c=0.007, reg='l1')\n",
    "lr.fit(X_train,y_train)\n",
    "#print(lr)\n",
    "\n",
    "yhat = lr.predict(X_test)\n",
    "print('Accuracy of: ',accuracy_score(y_test,yhat))"
   ]
  },
  {
   "cell_type": "code",
   "execution_count": 51,
   "id": "a7ce1635",
   "metadata": {},
   "outputs": [
    {
     "name": "stdout",
     "output_type": "stream",
     "text": [
      "ShuffleSplit(n_splits=3, random_state=None, test_size=0.2, train_size=None)\n"
     ]
    }
   ],
   "source": [
    "from sklearn.model_selection import ShuffleSplit\n",
    "\n",
    "    \n",
    "# to use the cross validation object in scikit learn, we need to grab an instance\n",
    "#    of the object and set it up. This object will be able to split our data into \n",
    "#    training and testing splits\n",
    "num_cv_iterations = 3\n",
    "num_instances = len(y)\n",
    "cv_object = ShuffleSplit(\n",
    "                         n_splits=num_cv_iterations,\n",
    "                         test_size  = 0.2)\n",
    "                         \n",
    "print(cv_object)\n"
   ]
  },
  {
   "cell_type": "code",
   "execution_count": 52,
   "id": "5003c10d",
   "metadata": {},
   "outputs": [
    {
     "data": {
      "application/vnd.jupyter.widget-view+json": {
       "model_id": "6db636b227234b2faeea5be7d9279a31",
       "version_major": 2,
       "version_minor": 0
      },
      "text/plain": [
       "interactive(children=(Dropdown(description='cost', options=(0.0001, 0.00022758459260747887, 0.0005179474679231…"
      ]
     },
     "metadata": {},
     "output_type": "display_data"
    },
    {
     "data": {
      "text/plain": [
       "<function __main__.lr_explor(cost)>"
      ]
     },
     "execution_count": 52,
     "metadata": {},
     "output_type": "execute_result"
    }
   ],
   "source": [
    "from ipywidgets import widgets as wd\n",
    "from sklearn import metrics as mt\n",
    "\n",
    "\n",
    "num_cv_iterations = 10\n",
    "num_instances = len(y)\n",
    "cv_object = ShuffleSplit(n_splits=num_cv_iterations,\n",
    "                         test_size  = 0.2)\n",
    "\n",
    "def lr_explor(cost):\n",
    "    print('Running')\n",
    "    lr_clf = BinaryLogisticRegression(eta=0.001,iterations=5000, optimization='steepest', reg='l1',\n",
    "                                            c=float(cost)) # get object\n",
    "    acc = []\n",
    "    for iter_num, (train_indices, test_indices) in enumerate(cv_object.split(X,y)):\n",
    "        lr_clf.fit(X[train_indices],y[train_indices])  # train object\n",
    "        y_hat = lr_clf.predict(X[test_indices]) # get test set predictions\n",
    "        acc.append(mt.accuracy_score(y[test_indices],y_hat))\n",
    "        \n",
    "    acc = np.array(acc)\n",
    "    print(acc.mean(),'+-',2.7*acc.std())\n",
    "        \n",
    "wd.interact(\n",
    "    lr_explor,cost=list(np.logspace(-4,1,15)),__manual=True)"
   ]
  },
  {
   "cell_type": "code",
   "execution_count": 53,
   "id": "620f08b3",
   "metadata": {},
   "outputs": [
    {
     "ename": "TypeError",
     "evalue": "unsupported operand type(s) for *: 'NoneType' and 'float'",
     "output_type": "error",
     "traceback": [
      "\u001b[0;31m---------------------------------------------------------------------------\u001b[0m",
      "\u001b[0;31mTypeError\u001b[0m                                 Traceback (most recent call last)",
      "File \u001b[0;32m<timed exec>:22\u001b[0m, in \u001b[0;36m<module>\u001b[0;34m\u001b[0m\n",
      "File \u001b[0;32m<timed exec>:12\u001b[0m, in \u001b[0;36mlr_explor\u001b[0;34m(cost)\u001b[0m\n",
      "Input \u001b[0;32mIn [47]\u001b[0m, in \u001b[0;36mBinaryLogisticRegression.fit\u001b[0;34m(self, X, y)\u001b[0m\n\u001b[1;32m     67\u001b[0m \u001b[38;5;28;01mfor\u001b[39;00m _ \u001b[38;5;129;01min\u001b[39;00m \u001b[38;5;28mrange\u001b[39m(\u001b[38;5;28mself\u001b[39m\u001b[38;5;241m.\u001b[39miters):\n\u001b[1;32m     68\u001b[0m     gradient \u001b[38;5;241m=\u001b[39m \u001b[38;5;28mself\u001b[39m\u001b[38;5;241m.\u001b[39m_get_gradient(Xb,y)\n\u001b[0;32m---> 69\u001b[0m     \u001b[38;5;28mself\u001b[39m\u001b[38;5;241m.\u001b[39mw_ \u001b[38;5;241m+\u001b[39m\u001b[38;5;241m=\u001b[39m \u001b[43mgradient\u001b[49m\u001b[38;5;241;43m*\u001b[39;49m\u001b[38;5;28;43mself\u001b[39;49m\u001b[38;5;241;43m.\u001b[39;49m\u001b[43meta\u001b[49m\n",
      "\u001b[0;31mTypeError\u001b[0m: unsupported operand type(s) for *: 'NoneType' and 'float'"
     ]
    }
   ],
   "source": [
    "%%time\n",
    "\n",
    "# alternatively, we can also graph out the values using boxplots\n",
    "num_cv_iterations = 3\n",
    "num_instances = len(y)\n",
    "cv_object = ShuffleSplit(n_splits=num_cv_iterations,\n",
    "                         test_size  = 0.2)\n",
    "\n",
    "def lr_explor(cost):\n",
    "    lr_clf = BinaryLogisticRegression(eta=0.001,iterations=875, optimization='steepest', reg='l1',\n",
    "                                            c=float(cost)) # get object\n",
    "    acc = []\n",
    "    for iter_num, (train_indices, test_indices) in enumerate(cv_object.split(X,y)):\n",
    "        lr_clf.fit(X[train_indices],y[train_indices])  # train object\n",
    "        y_hat = lr_clf.predict(X[test_indices]) # get test set predictions\n",
    "        acc.append(mt.accuracy_score(y[test_indices],y_hat))\n",
    "        \n",
    "    acc = np.array(acc)\n",
    "    return acc\n",
    "\n",
    "costs = np.logspace(-5,1,20)\n",
    "accs = []\n",
    "for c in costs:\n",
    "    accs.append(lr_explor(c))"
   ]
  },
  {
   "cell_type": "code",
   "execution_count": 54,
   "id": "3515bfae",
   "metadata": {},
   "outputs": [
    {
     "data": {
      "image/png": "[encoded data removed]",
      "text/plain": [
       "<Figure size 432x288 with 1 Axes>"
      ]
     },
     "metadata": {
      "needs_background": "light"
     },
     "output_type": "display_data"
    }
   ],
   "source": [
    "# now show a boxplot of the data across c\n",
    "from matplotlib import pyplot as plt\n",
    "%matplotlib inline\n",
    "\n",
    "plt.boxplot(accs)\n",
    "plt.xticks(range(1,len(costs)+1),['%.4f'%(c) for c in costs],rotation='vertical')\n",
    "plt.xlabel('C')\n",
    "plt.ylabel('validation accuracy')\n",
    "plt.show()"
   ]
  },
  {
   "cell_type": "code",
   "execution_count": 55,
   "id": "26d6be57",
   "metadata": {},
   "outputs": [
    {
     "ename": "TypeError",
     "evalue": "unsupported operand type(s) for *: 'NoneType' and 'float'",
     "output_type": "error",
     "traceback": [
      "\u001b[0;31m---------------------------------------------------------------------------\u001b[0m",
      "\u001b[0;31mTypeError\u001b[0m                                 Traceback (most recent call last)",
      "Input \u001b[0;32mIn [55]\u001b[0m, in \u001b[0;36m<cell line: 9>\u001b[0;34m()\u001b[0m\n\u001b[1;32m     15\u001b[0m start_time \u001b[38;5;241m=\u001b[39m time\u001b[38;5;241m.\u001b[39mtime()\n\u001b[1;32m     16\u001b[0m lr \u001b[38;5;241m=\u001b[39m LogisticRegression(\u001b[38;5;241m*\u001b[39m\u001b[38;5;241m*\u001b[39mparams)\n\u001b[0;32m---> 17\u001b[0m \u001b[43mlr\u001b[49m\u001b[38;5;241;43m.\u001b[39;49m\u001b[43mfit\u001b[49m\u001b[43m(\u001b[49m\u001b[43mX_train\u001b[49m\u001b[43m,\u001b[49m\u001b[43m \u001b[49m\u001b[43my_train\u001b[49m\u001b[43m)\u001b[49m\n\u001b[1;32m     18\u001b[0m yhat \u001b[38;5;241m=\u001b[39m lr\u001b[38;5;241m.\u001b[39mpredict(X_test)\n\u001b[1;32m     19\u001b[0m end_time \u001b[38;5;241m=\u001b[39m time\u001b[38;5;241m.\u001b[39mtime()\n",
      "Input \u001b[0;32mIn [48]\u001b[0m, in \u001b[0;36mLogisticRegression.fit\u001b[0;34m(self, X, y)\u001b[0m\n\u001b[1;32m     24\u001b[0m \u001b[38;5;66;03m# train the binary classifier for this class\u001b[39;00m\n\u001b[1;32m     25\u001b[0m blr \u001b[38;5;241m=\u001b[39m BinaryLogisticRegression(eta\u001b[38;5;241m=\u001b[39m\u001b[38;5;28mself\u001b[39m\u001b[38;5;241m.\u001b[39meta,\n\u001b[1;32m     26\u001b[0m                                      iterations\u001b[38;5;241m=\u001b[39m\u001b[38;5;28mself\u001b[39m\u001b[38;5;241m.\u001b[39miters,\n\u001b[1;32m     27\u001b[0m                                      optimization\u001b[38;5;241m=\u001b[39m\u001b[38;5;28mself\u001b[39m\u001b[38;5;241m.\u001b[39moptim,\n\u001b[1;32m     28\u001b[0m                                      c\u001b[38;5;241m=\u001b[39m\u001b[38;5;28mself\u001b[39m\u001b[38;5;241m.\u001b[39mc,\n\u001b[1;32m     29\u001b[0m                                      reg\u001b[38;5;241m=\u001b[39m\u001b[38;5;28mself\u001b[39m\u001b[38;5;241m.\u001b[39mreg)\n\u001b[0;32m---> 30\u001b[0m \u001b[43mblr\u001b[49m\u001b[38;5;241;43m.\u001b[39;49m\u001b[43mfit\u001b[49m\u001b[43m(\u001b[49m\u001b[43mX\u001b[49m\u001b[43m,\u001b[49m\u001b[43my_binary\u001b[49m\u001b[43m)\u001b[49m\n\u001b[1;32m     31\u001b[0m \u001b[38;5;66;03m# add the trained classifier to the list\u001b[39;00m\n\u001b[1;32m     32\u001b[0m \u001b[38;5;28mself\u001b[39m\u001b[38;5;241m.\u001b[39mclassifiers_\u001b[38;5;241m.\u001b[39mappend(blr)\n",
      "Input \u001b[0;32mIn [47]\u001b[0m, in \u001b[0;36mBinaryLogisticRegression.fit\u001b[0;34m(self, X, y)\u001b[0m\n\u001b[1;32m     67\u001b[0m \u001b[38;5;28;01mfor\u001b[39;00m _ \u001b[38;5;129;01min\u001b[39;00m \u001b[38;5;28mrange\u001b[39m(\u001b[38;5;28mself\u001b[39m\u001b[38;5;241m.\u001b[39miters):\n\u001b[1;32m     68\u001b[0m     gradient \u001b[38;5;241m=\u001b[39m \u001b[38;5;28mself\u001b[39m\u001b[38;5;241m.\u001b[39m_get_gradient(Xb,y)\n\u001b[0;32m---> 69\u001b[0m     \u001b[38;5;28mself\u001b[39m\u001b[38;5;241m.\u001b[39mw_ \u001b[38;5;241m+\u001b[39m\u001b[38;5;241m=\u001b[39m \u001b[43mgradient\u001b[49m\u001b[38;5;241;43m*\u001b[39;49m\u001b[38;5;28;43mself\u001b[39;49m\u001b[38;5;241;43m.\u001b[39;49m\u001b[43meta\u001b[49m\n",
      "\u001b[0;31mTypeError\u001b[0m: unsupported operand type(s) for *: 'NoneType' and 'float'"
     ]
    }
   ],
   "source": [
    "# this may take a while (Newton's, specifically)\n",
    "import time\n",
    "\n",
    "optimization_vals = ['steepest', 'stochastic', 'newton']\n",
    "regularization_vals = ['none', 'l1', 'l2', 'l1l2']\n",
    "C_vals = [1, 0.1, 0.01, 0.001] # reasonable lambda values typically range between 0 and 0.1\n",
    "\n",
    "grid_search_results = {}\n",
    "for opt in optimization_vals:\n",
    "    for reg in regularization_vals:\n",
    "        for C in C_vals:\n",
    "            technique = str(opt) + '_' + str(reg) + '_' + str(C)\n",
    "            params = dict(eta=0.1, iterations=100, optimization=opt, reg=reg, c=C)\n",
    "            \n",
    "            start_time = time.time()\n",
    "            lr = LogisticRegression(**params)\n",
    "            lr.fit(X_train, y_train)\n",
    "            yhat = lr.predict(X_test)\n",
    "            end_time = time.time()\n",
    "            \n",
    "            accuracy = accuracy_score(y_test, yhat)\n",
    "            time_elapsed = end_time - start_time\n",
    "            print(f'{technique}: {accuracy} accuracy, {time_elapsed} s', )\n",
    "\n",
    "            grid_search_results[technique] = (accuracy, time_elapsed)"
   ]
  },
  {
   "cell_type": "code",
   "execution_count": null,
   "id": "ce782493",
   "metadata": {},
   "outputs": [],
   "source": [
    "methods = []\n",
    "accuracies = []\n",
    "times = []\n",
    "for name, accs in grid_search_results.items():\n",
    "    nameList = name.split('_')\n",
    "    acc, time = accs\n",
    "    methods.append(nameList)\n",
    "    accuracies.append(acc)\n",
    "    times.append(time)\n",
    "\n",
    "maxAcc = max(accuracies)\n",
    "maxAccIndex = accuracies.index(maxAcc)\n",
    "\n",
    "print(\"Best Method:\", methods[maxAccIndex])\n",
    "print(\"Best Accuracy:\", accuracies[maxAccIndex])\n",
    "print(\"Best Time:\", times[maxAccIndex])"
   ]
  },
  {
   "cell_type": "code",
   "execution_count": null,
   "id": "1d50920e",
   "metadata": {},
   "outputs": [],
   "source": [
    "steepest = []\n",
    "for i in range(len(methods)):\n",
    "    if methods[i][0] == 'steepest':\n",
    "        temp = [methods[i][0], methods[i][1], methods[i][2], accuracies[i], times[i]]\n",
    "        steepest.append(temp)\n",
    "\n",
    "steepest_none = []\n",
    "steepest_l1 = []\n",
    "steepest_l2 = []\n",
    "steepest_both = []\n",
    "\n",
    "none_regs = []\n",
    "l1_regs = []\n",
    "l2_regs = []\n",
    "both_regs = []\n",
    "\n",
    "none_accus = []\n",
    "l1_accus = []\n",
    "l2_accus = []\n",
    "both_accus = []\n",
    "\n",
    "none_cs = []\n",
    "l1_cs = []\n",
    "l2_cs = []\n",
    "both_cs = []\n",
    "\n",
    "regs = []\n",
    "accus = []\n",
    "\n",
    "for i in range(len(steepest)):\n",
    "    regs.append(steepest[i][1])\n",
    "    accus.append(steepest[i][3])\n",
    "    \n",
    "    if steepest[i][1] == 'none': \n",
    "        steepest_none.append(steepest[i])\n",
    "        none_regs.append(steepest[i][1])\n",
    "        none_accus.append(steepest[i][3])\n",
    "        none_cs.append(steepest[i][2])\n",
    "        \n",
    "    elif steepest[i][1] == 'l1': \n",
    "        steepest_l1.append(steepest[i])\n",
    "        l1_regs.append(steepest[i][1])\n",
    "        l1_accus.append(steepest[i][3])\n",
    "        l1_cs.append(steepest[i][2])\n",
    "\n",
    "    elif steepest[i][1] == 'l2': \n",
    "        steepest_l2.append(steepest[i])\n",
    "        l2_regs.append(steepest[i][1])\n",
    "        l2_accus.append(steepest[i][3])\n",
    "        l2_cs.append(steepest[i][2])\n",
    "\n",
    "    elif steepest[i][1] == 'l1l2':\n",
    "        steepest_both.append(steepest[i])\n",
    "        both_regs.append(steepest[i][1])\n",
    "        both_accus.append(steepest[i][3])\n",
    "        both_cs.append(steepest[i][2])"
   ]
  },
  {
   "cell_type": "code",
   "execution_count": null,
   "id": "e6dacb18",
   "metadata": {},
   "outputs": [],
   "source": [
    "#fig = plt.figure(figsize = (5, 8))\n",
    "\n",
    "plt.bar(none_cs, none_accus)\n",
    "plt.xlabel('Regs')\n",
    "plt.ylabel('Accuracy')\n",
    "plt.title('Steepest No Reg')\n",
    "\n",
    "plt.show()\n",
    "\n",
    "plt.bar(l1_cs, l1_accus)\n",
    "plt.xlabel('Regs')\n",
    "plt.ylabel('Accuracy')\n",
    "plt.title('Steepest L1 Reg')\n",
    "\n",
    "plt.show()\n",
    "\n",
    "plt.bar(l2_cs, l2_accus)\n",
    "plt.xlabel('Regs')\n",
    "plt.ylabel('Accuracy')\n",
    "plt.title('Steepest L2 Reg')\n",
    "\n",
    "plt.show()\n",
    "\n",
    "plt.bar(both_cs, both_accus)\n",
    "plt.xlabel('Regs')\n",
    "plt.ylabel('Accuracy')\n",
    "plt.title('Steepest Both Reg')\n",
    "\n",
    "plt.show()\n"
   ]
  },
  {
   "cell_type": "code",
   "execution_count": null,
   "id": "7fe19b73",
   "metadata": {},
   "outputs": [],
   "source": [
    "stochastic = []\n",
    "for i in range(len(methods)):\n",
    "    if methods[i][0] == 'stochastic':\n",
    "        temp = [methods[i][0], methods[i][1], methods[i][2], accuracies[i], times[i]]\n",
    "        stochastic.append(temp)\n",
    "\n",
    "stochastic_none = []\n",
    "stochastic_l1 = []\n",
    "stochastic_l2 = []\n",
    "stochastic_both = []\n",
    "\n",
    "none_regs = []\n",
    "l1_regs = []\n",
    "l2_regs = []\n",
    "both_regs = []\n",
    "\n",
    "none_accus = []\n",
    "l1_accus = []\n",
    "l2_accus = []\n",
    "both_accus = []\n",
    "\n",
    "none_cs = []\n",
    "l1_cs = []\n",
    "l2_cs = []\n",
    "both_cs = []\n",
    "\n",
    "regs = []\n",
    "accus = []\n",
    "\n",
    "for i in range(len(stochastic)):\n",
    "    regs.append(stochastic[i][1])\n",
    "    accus.append(stochastic[i][3])\n",
    "    \n",
    "    if stochastic[i][1] == 'none': \n",
    "        stochastic_none.append(stochastic[i])\n",
    "        none_regs.append(stochastic[i][1])\n",
    "        none_accus.append(stochastic[i][3])\n",
    "        none_cs.append(stochastic[i][2])\n",
    "        \n",
    "    elif stochastic[i][1] == 'l1': \n",
    "        stochastic_l1.append(stochastic[i])\n",
    "        l1_regs.append(stochastic[i][1])\n",
    "        l1_accus.append(stochastic[i][3])\n",
    "        l1_cs.append(stochastic[i][2])\n",
    "\n",
    "    elif stochastic[i][1] == 'l2': \n",
    "        stochastic_l2.append(stochastic[i])\n",
    "        l2_regs.append(stochastic[i][1])\n",
    "        l2_accus.append(stochastic[i][3])\n",
    "        l2_cs.append(stochastic[i][2])\n",
    "\n",
    "    elif stochastic[i][1] == 'l1l2':\n",
    "        stochastic_both.append(stochastic[i])\n",
    "        both_regs.append(stochastic[i][1])\n",
    "        both_accus.append(stochastic[i][3])\n",
    "        both_cs.append(stochastic[i][2])"
   ]
  },
  {
   "cell_type": "code",
   "execution_count": null,
   "id": "496b8fb2",
   "metadata": {},
   "outputs": [],
   "source": [
    "#fig = plt.figure(figsize = (5, 8))\n",
    "\n",
    "plt.bar(none_cs, none_accus)\n",
    "plt.xlabel('Regs')\n",
    "plt.ylabel('Accuracy')\n",
    "plt.title('Stochastic No Reg')\n",
    "\n",
    "plt.show()\n",
    "\n",
    "plt.bar(l1_cs, l1_accus)\n",
    "plt.xlabel('Regs')\n",
    "plt.ylabel('Accuracy')\n",
    "plt.title('Stochastic L1 Reg')\n",
    "\n",
    "plt.show()\n",
    "\n",
    "plt.bar(l2_cs, l2_accus)\n",
    "plt.xlabel('Regs')\n",
    "plt.ylabel('Accuracy')\n",
    "plt.title('Stochastic L2 Reg')\n",
    "\n",
    "plt.show()\n",
    "\n",
    "plt.bar(both_cs, both_accus)\n",
    "plt.xlabel('Regs')\n",
    "plt.ylabel('Accuracy')\n",
    "plt.title('Stochastic Both Reg')\n",
    "\n",
    "plt.show()\n"
   ]
  },
  {
   "cell_type": "code",
   "execution_count": null,
   "id": "f307a01c",
   "metadata": {},
   "outputs": [],
   "source": [
    "newton = []\n",
    "for i in range(len(methods)):\n",
    "    if methods[i][0] == 'newton':\n",
    "        temp = [methods[i][0], methods[i][1], methods[i][2], accuracies[i], times[i]]\n",
    "        newton.append(temp)\n",
    "\n",
    "newton_none = []\n",
    "newton_l1 = []\n",
    "newton_l2 = []\n",
    "newton_both = []\n",
    "\n",
    "none_regs = []\n",
    "l1_regs = []\n",
    "l2_regs = []\n",
    "both_regs = []\n",
    "\n",
    "none_accus = []\n",
    "l1_accus = []\n",
    "l2_accus = []\n",
    "both_accus = []\n",
    "\n",
    "none_cs = []\n",
    "l1_cs = []\n",
    "l2_cs = []\n",
    "both_cs = []\n",
    "\n",
    "regs = []\n",
    "accus = []\n",
    "\n",
    "for i in range(len(newton)):\n",
    "    regs.append(newton[i][1])\n",
    "    accus.append(newton[i][3])\n",
    "    \n",
    "    if newton[i][1] == 'none': \n",
    "        newton_none.append(newton[i])\n",
    "        none_regs.append(newton[i][1])\n",
    "        none_accus.append(newton[i][3])\n",
    "        none_cs.append(newton[i][2])\n",
    "        \n",
    "    elif newton[i][1] == 'l1': \n",
    "        newton_l1.append(newton[i])\n",
    "        l1_regs.append(newton[i][1])\n",
    "        l1_accus.append(newton[i][3])\n",
    "        l1_cs.append(newton[i][2])\n",
    "\n",
    "    elif newton[i][1] == 'l2': \n",
    "        newton_l2.append(newton[i])\n",
    "        l2_regs.append(newton[i][1])\n",
    "        l2_accus.append(newton[i][3])\n",
    "        l2_cs.append(newton[i][2])\n",
    "\n",
    "    elif newton[i][1] == 'l1l2':\n",
    "        newton_both.append(newton[i])\n",
    "        both_regs.append(newton[i][1])\n",
    "        both_accus.append(newton[i][3])\n",
    "        both_cs.append(newton[i][2])"
   ]
  },
  {
   "cell_type": "code",
   "execution_count": null,
   "id": "0481e2cf",
   "metadata": {},
   "outputs": [],
   "source": [
    "#fig = plt.figure(figsize = (5, 8))\n",
    "\n",
    "plt.bar(none_cs, none_accus)\n",
    "plt.xlabel('Regs')\n",
    "plt.ylabel('Accuracy')\n",
    "plt.title('Newton No Reg')\n",
    "\n",
    "plt.show()\n",
    "\n",
    "plt.bar(l1_cs, l1_accus)\n",
    "plt.xlabel('Regs')\n",
    "plt.ylabel('Accuracy')\n",
    "plt.title('Newton L1 Reg')\n",
    "\n",
    "plt.show()\n",
    "\n",
    "plt.bar(l2_cs, l2_accus)\n",
    "plt.xlabel('Regs')\n",
    "plt.ylabel('Accuracy')\n",
    "plt.title('Newton L2 Reg')\n",
    "\n",
    "plt.show()\n",
    "\n",
    "plt.bar(both_cs, both_accus)\n",
    "plt.xlabel('Regs')\n",
    "plt.ylabel('Accuracy')\n",
    "plt.title('Newton Both Reg')\n",
    "\n",
    "plt.show()\n"
   ]
  },
  {
   "cell_type": "markdown",
   "id": "26961581",
   "metadata": {},
   "source": [
    "## Deployment"
   ]
  },
  {
   "cell_type": "markdown",
   "id": "71d5d6f3",
   "metadata": {},
   "source": [
    "Question: Which implementation of logistic regression would you advise be used in a deployed machine learning model, your implementation or scikit-learn (or other third party)? Why?"
   ]
  },
  {
   "cell_type": "markdown",
   "id": "879e0b22",
   "metadata": {},
   "source": [
    "## Exceptional Work"
   ]
  },
  {
   "cell_type": "markdown",
   "id": "95013c32",
   "metadata": {},
   "source": [
    "Question: Implement an optimization technique for logistic regression using mean square error as your objective function (instead of maximum likelihood). Derive the gradient updates for the Hessian and use Newton's method to update the values of \"w\". Then answer, which process do you prefer: maximum likelihood OR minimum mean-squared error? "
   ]
  }
 ],
 "metadata": {
  "kernelspec": {
   "display_name": "Python 3 (ipykernel)",
   "language": "python",
   "name": "python3"
  },
  "language_info": {
   "codemirror_mode": {
    "name": "ipython",
    "version": 3
   },
   "file_extension": ".py",
   "mimetype": "text/x-python",
   "name": "python",
   "nbconvert_exporter": "python",
   "pygments_lexer": "ipython3",
   "version": "3.9.12"
  },
  "vscode": {
   "interpreter": {
    "hash": "aee8b7b246df8f9039afb4144a1f6fd8d2ca17a180786b69acc140d282b71a49"
   }
  }
 },
 "nbformat": 4,
 "nbformat_minor": 5
}
